{
 "cells": [
  {
   "cell_type": "code",
   "execution_count": 2,
   "id": "ce485e0e",
   "metadata": {},
   "outputs": [],
   "source": [
    "import pandas as pd\n",
    "import numpy as np\n"
   ]
  },
  {
   "cell_type": "code",
<<<<<<< Updated upstream
   "execution_count": null,
   "id": "865933f2",
   "metadata": {},
   "outputs": [],
   "source": []
  },
  {
   "cell_type": "code",
   "execution_count": 2,
=======
   "execution_count": 3,
>>>>>>> Stashed changes
   "id": "6fee5b4d",
   "metadata": {},
   "outputs": [
    {
     "data": {
      "text/html": [
       "<div>\n",
       "<style scoped>\n",
       "    .dataframe tbody tr th:only-of-type {\n",
       "        vertical-align: middle;\n",
       "    }\n",
       "\n",
       "    .dataframe tbody tr th {\n",
       "        vertical-align: top;\n",
       "    }\n",
       "\n",
       "    .dataframe thead th {\n",
       "        text-align: right;\n",
       "    }\n",
       "</style>\n",
       "<table border=\"1\" class=\"dataframe\">\n",
       "  <thead>\n",
       "    <tr style=\"text-align: right;\">\n",
       "      <th></th>\n",
       "      <th>Transaction ID</th>\n",
       "      <th>Customer ID</th>\n",
       "      <th>Transaction Amount</th>\n",
       "      <th>Transaction Date</th>\n",
       "      <th>Payment Method</th>\n",
       "      <th>Product Category</th>\n",
       "      <th>Quantity</th>\n",
       "      <th>Customer Age</th>\n",
       "      <th>Customer Location</th>\n",
       "      <th>Device Used</th>\n",
       "      <th>IP Address</th>\n",
       "      <th>Shipping Address</th>\n",
       "      <th>Billing Address</th>\n",
       "      <th>Is Fraudulent</th>\n",
       "      <th>Account Age Days</th>\n",
       "      <th>Transaction Hour</th>\n",
       "    </tr>\n",
       "  </thead>\n",
       "  <tbody>\n",
       "    <tr>\n",
       "      <th>0</th>\n",
       "      <td>c12e07a0-8a06-4c0d-b5cc-04f3af688570</td>\n",
       "      <td>8ca9f102-02a4-4207-ab63-484e83a1bdf0</td>\n",
       "      <td>42.32</td>\n",
       "      <td>2024-03-24 23:42:43</td>\n",
       "      <td>PayPal</td>\n",
       "      <td>electronics</td>\n",
       "      <td>1</td>\n",
       "      <td>40</td>\n",
       "      <td>East Jameshaven</td>\n",
       "      <td>desktop</td>\n",
       "      <td>110.87.246.85</td>\n",
       "      <td>5399 Rachel Stravenue Suite 718\\nNorth Blakebu...</td>\n",
       "      <td>5399 Rachel Stravenue Suite 718\\nNorth Blakebu...</td>\n",
       "      <td>0</td>\n",
       "      <td>282</td>\n",
       "      <td>23</td>\n",
       "    </tr>\n",
       "    <tr>\n",
       "      <th>1</th>\n",
       "      <td>7d187603-7961-4fce-9827-9698e2b6a201</td>\n",
       "      <td>4d158416-caae-4b09-bd5b-15235deb9129</td>\n",
       "      <td>301.34</td>\n",
       "      <td>2024-01-22 00:53:31</td>\n",
       "      <td>credit card</td>\n",
       "      <td>electronics</td>\n",
       "      <td>3</td>\n",
       "      <td>35</td>\n",
       "      <td>Kingstad</td>\n",
       "      <td>tablet</td>\n",
       "      <td>14.73.104.153</td>\n",
       "      <td>5230 Stephanie Forge\\nCollinsbury, PR 81853</td>\n",
       "      <td>5230 Stephanie Forge\\nCollinsbury, PR 81853</td>\n",
       "      <td>0</td>\n",
       "      <td>223</td>\n",
       "      <td>0</td>\n",
       "    </tr>\n",
       "    <tr>\n",
       "      <th>2</th>\n",
       "      <td>f2c14f9d-92df-4aaf-8931-ceaf4e63ed72</td>\n",
       "      <td>ccae47b8-75c7-4f5a-aa9e-957deced2137</td>\n",
       "      <td>340.32</td>\n",
       "      <td>2024-01-22 08:06:03</td>\n",
       "      <td>debit card</td>\n",
       "      <td>toys &amp; games</td>\n",
       "      <td>5</td>\n",
       "      <td>29</td>\n",
       "      <td>North Ryan</td>\n",
       "      <td>desktop</td>\n",
       "      <td>67.58.94.93</td>\n",
       "      <td>195 Cole Oval\\nPort Larry, IA 58422</td>\n",
       "      <td>4772 David Stravenue Apt. 447\\nVelasquezside, ...</td>\n",
       "      <td>0</td>\n",
       "      <td>360</td>\n",
       "      <td>8</td>\n",
       "    </tr>\n",
       "    <tr>\n",
       "      <th>3</th>\n",
       "      <td>e9949bfa-194d-486b-84da-9565fca9e5ce</td>\n",
       "      <td>b04960c0-aeee-4907-b1cd-4819016adcef</td>\n",
       "      <td>95.77</td>\n",
       "      <td>2024-01-16 20:34:53</td>\n",
       "      <td>credit card</td>\n",
       "      <td>electronics</td>\n",
       "      <td>5</td>\n",
       "      <td>45</td>\n",
       "      <td>Kaylaville</td>\n",
       "      <td>mobile</td>\n",
       "      <td>202.122.126.216</td>\n",
       "      <td>7609 Cynthia Square\\nWest Brenda, NV 23016</td>\n",
       "      <td>7609 Cynthia Square\\nWest Brenda, NV 23016</td>\n",
       "      <td>0</td>\n",
       "      <td>325</td>\n",
       "      <td>20</td>\n",
       "    </tr>\n",
       "    <tr>\n",
       "      <th>4</th>\n",
       "      <td>7362837c-7538-434e-8731-0df713f5f26d</td>\n",
       "      <td>de9d6351-b3a7-4bc7-9a55-8f013eb66928</td>\n",
       "      <td>77.45</td>\n",
       "      <td>2024-01-16 15:47:23</td>\n",
       "      <td>credit card</td>\n",
       "      <td>clothing</td>\n",
       "      <td>5</td>\n",
       "      <td>42</td>\n",
       "      <td>North Edwardborough</td>\n",
       "      <td>desktop</td>\n",
       "      <td>96.77.232.76</td>\n",
       "      <td>2494 Robert Ramp Suite 313\\nRobinsonport, AS 5...</td>\n",
       "      <td>2494 Robert Ramp Suite 313\\nRobinsonport, AS 5...</td>\n",
       "      <td>0</td>\n",
       "      <td>116</td>\n",
       "      <td>15</td>\n",
       "    </tr>\n",
       "  </tbody>\n",
       "</table>\n",
       "</div>"
      ],
      "text/plain": [
       "                         Transaction ID                           Customer ID  \\\n",
       "0  c12e07a0-8a06-4c0d-b5cc-04f3af688570  8ca9f102-02a4-4207-ab63-484e83a1bdf0   \n",
       "1  7d187603-7961-4fce-9827-9698e2b6a201  4d158416-caae-4b09-bd5b-15235deb9129   \n",
       "2  f2c14f9d-92df-4aaf-8931-ceaf4e63ed72  ccae47b8-75c7-4f5a-aa9e-957deced2137   \n",
       "3  e9949bfa-194d-486b-84da-9565fca9e5ce  b04960c0-aeee-4907-b1cd-4819016adcef   \n",
       "4  7362837c-7538-434e-8731-0df713f5f26d  de9d6351-b3a7-4bc7-9a55-8f013eb66928   \n",
       "\n",
       "   Transaction Amount     Transaction Date Payment Method Product Category  \\\n",
       "0               42.32  2024-03-24 23:42:43         PayPal      electronics   \n",
       "1              301.34  2024-01-22 00:53:31    credit card      electronics   \n",
       "2              340.32  2024-01-22 08:06:03     debit card     toys & games   \n",
       "3               95.77  2024-01-16 20:34:53    credit card      electronics   \n",
       "4               77.45  2024-01-16 15:47:23    credit card         clothing   \n",
       "\n",
       "   Quantity  Customer Age    Customer Location Device Used       IP Address  \\\n",
       "0         1            40      East Jameshaven     desktop    110.87.246.85   \n",
       "1         3            35             Kingstad      tablet    14.73.104.153   \n",
       "2         5            29           North Ryan     desktop      67.58.94.93   \n",
       "3         5            45           Kaylaville      mobile  202.122.126.216   \n",
       "4         5            42  North Edwardborough     desktop     96.77.232.76   \n",
       "\n",
       "                                    Shipping Address  \\\n",
       "0  5399 Rachel Stravenue Suite 718\\nNorth Blakebu...   \n",
       "1        5230 Stephanie Forge\\nCollinsbury, PR 81853   \n",
       "2                195 Cole Oval\\nPort Larry, IA 58422   \n",
       "3         7609 Cynthia Square\\nWest Brenda, NV 23016   \n",
       "4  2494 Robert Ramp Suite 313\\nRobinsonport, AS 5...   \n",
       "\n",
       "                                     Billing Address  Is Fraudulent  \\\n",
       "0  5399 Rachel Stravenue Suite 718\\nNorth Blakebu...              0   \n",
       "1        5230 Stephanie Forge\\nCollinsbury, PR 81853              0   \n",
       "2  4772 David Stravenue Apt. 447\\nVelasquezside, ...              0   \n",
       "3         7609 Cynthia Square\\nWest Brenda, NV 23016              0   \n",
       "4  2494 Robert Ramp Suite 313\\nRobinsonport, AS 5...              0   \n",
       "\n",
       "   Account Age Days  Transaction Hour  \n",
       "0               282                23  \n",
       "1               223                 0  \n",
       "2               360                 8  \n",
       "3               325                20  \n",
       "4               116                15  "
      ]
     },
     "execution_count": 3,
     "metadata": {},
     "output_type": "execute_result"
    }
   ],
   "source": [
    "df = pd.read_csv('Fraudulent_E-Commerce_Transaction_Data_2.csv')\n",
    "df.head()"
   ]
  },
  {
   "cell_type": "code",
   "execution_count": 4,
   "id": "2169bd84",
   "metadata": {},
   "outputs": [
    {
     "name": "stdout",
     "output_type": "stream",
     "text": [
      "<class 'pandas.core.frame.DataFrame'>\n",
      "RangeIndex: 23634 entries, 0 to 23633\n",
      "Data columns (total 16 columns):\n",
      " #   Column              Non-Null Count  Dtype  \n",
      "---  ------              --------------  -----  \n",
      " 0   Transaction ID      23634 non-null  object \n",
      " 1   Customer ID         23634 non-null  object \n",
      " 2   Transaction Amount  23634 non-null  float64\n",
      " 3   Transaction Date    23634 non-null  object \n",
      " 4   Payment Method      23634 non-null  object \n",
      " 5   Product Category    23634 non-null  object \n",
      " 6   Quantity            23634 non-null  int64  \n",
      " 7   Customer Age        23634 non-null  int64  \n",
      " 8   Customer Location   23634 non-null  object \n",
      " 9   Device Used         23634 non-null  object \n",
      " 10  IP Address          23634 non-null  object \n",
      " 11  Shipping Address    23634 non-null  object \n",
      " 12  Billing Address     23634 non-null  object \n",
      " 13  Is Fraudulent       23634 non-null  int64  \n",
      " 14  Account Age Days    23634 non-null  int64  \n",
      " 15  Transaction Hour    23634 non-null  int64  \n",
      "dtypes: float64(1), int64(5), object(10)\n",
      "memory usage: 2.9+ MB\n"
     ]
    }
   ],
   "source": [
    "df.info()"
   ]
  },
  {
   "cell_type": "code",
   "execution_count": 5,
   "id": "dc3fc5f2",
   "metadata": {},
   "outputs": [
    {
     "data": {
      "text/plain": [
       "Transaction ID        0\n",
       "Customer ID           0\n",
       "Transaction Amount    0\n",
       "Transaction Date      0\n",
       "Payment Method        0\n",
       "Product Category      0\n",
       "Quantity              0\n",
       "Customer Age          0\n",
       "Customer Location     0\n",
       "Device Used           0\n",
       "IP Address            0\n",
       "Shipping Address      0\n",
       "Billing Address       0\n",
       "Is Fraudulent         0\n",
       "Account Age Days      0\n",
       "Transaction Hour      0\n",
       "dtype: int64"
      ]
     },
     "execution_count": 5,
     "metadata": {},
     "output_type": "execute_result"
    }
   ],
   "source": [
    "df.isnull().sum()"
   ]
  },
  {
   "cell_type": "code",
   "execution_count": 6,
   "id": "c29e3e93",
   "metadata": {},
   "outputs": [
    {
     "data": {
      "text/plain": [
       "np.int64(0)"
      ]
     },
     "execution_count": 6,
     "metadata": {},
     "output_type": "execute_result"
    }
   ],
   "source": [
    "df.duplicated().sum()"
   ]
  },
  {
   "cell_type": "code",
   "execution_count": 7,
   "id": "6993c290",
   "metadata": {},
   "outputs": [
    {
     "data": {
      "text/html": [
       "<div>\n",
       "<style scoped>\n",
       "    .dataframe tbody tr th:only-of-type {\n",
       "        vertical-align: middle;\n",
       "    }\n",
       "\n",
       "    .dataframe tbody tr th {\n",
       "        vertical-align: top;\n",
       "    }\n",
       "\n",
       "    .dataframe thead th {\n",
       "        text-align: right;\n",
       "    }\n",
       "</style>\n",
       "<table border=\"1\" class=\"dataframe\">\n",
       "  <thead>\n",
       "    <tr style=\"text-align: right;\">\n",
       "      <th></th>\n",
       "      <th>Transaction ID</th>\n",
       "      <th>Customer ID</th>\n",
       "      <th>Transaction Amount</th>\n",
       "      <th>Transaction Date</th>\n",
       "      <th>Payment Method</th>\n",
       "      <th>Product Category</th>\n",
       "      <th>Quantity</th>\n",
       "      <th>Customer Age</th>\n",
       "      <th>Customer Location</th>\n",
       "      <th>Device Used</th>\n",
       "      <th>IP Address</th>\n",
       "      <th>Shipping Address</th>\n",
       "      <th>Billing Address</th>\n",
       "      <th>Is Fraudulent</th>\n",
       "      <th>Account Age Days</th>\n",
       "      <th>Transaction Hour</th>\n",
       "    </tr>\n",
       "  </thead>\n",
       "  <tbody>\n",
       "  </tbody>\n",
       "</table>\n",
       "</div>"
      ],
      "text/plain": [
       "Empty DataFrame\n",
       "Columns: [Transaction ID, Customer ID, Transaction Amount, Transaction Date, Payment Method, Product Category, Quantity, Customer Age, Customer Location, Device Used, IP Address, Shipping Address, Billing Address, Is Fraudulent, Account Age Days, Transaction Hour]\n",
       "Index: []"
      ]
     },
     "execution_count": 7,
     "metadata": {},
     "output_type": "execute_result"
    }
   ],
   "source": [
    "df[df['Transaction Amount']<=0]"
   ]
  },
  {
   "cell_type": "code",
   "execution_count": 22,
   "id": "49af77e2",
   "metadata": {},
   "outputs": [
    {
     "name": "stdout",
     "output_type": "stream",
     "text": [
      "Kolom numerik: Index(['Transaction Amount', 'Quantity', 'Customer Age', 'Is Fraudulent',\n",
      "       'Account Age Days', 'Transaction Hour'],\n",
      "      dtype='object')\n",
      "Kolom kategorik: Index(['Transaction ID', 'Customer ID', 'Transaction Date', 'Payment Method',\n",
      "       'Product Category', 'Customer Location', 'Device Used', 'IP Address',\n",
      "       'Shipping Address', 'Billing Address'],\n",
      "      dtype='object')\n"
     ]
    }
   ],
   "source": [
    "# Memisahkan kolom numerik dengan kategorik\n",
    "num_cols = df.select_dtypes(include=['number']).columns\n",
    "cat_cols = df.select_dtypes(exclude=['number']).columns\n",
    "\n",
    "print(\"Kolom numerik:\", num_cols)\n",
    "print(\"Kolom kategorik:\", cat_cols)"
   ]
  },
  {
   "cell_type": "code",
   "execution_count": 23,
   "id": "26e289a4",
   "metadata": {},
   "outputs": [
    {
     "data": {
      "text/plain": [
       "Index(['Transaction Amount', 'Quantity', 'Customer Age', 'Account Age Days',\n",
       "       'Transaction Hour'],\n",
       "      dtype='object')"
      ]
     },
     "execution_count": 23,
     "metadata": {},
     "output_type": "execute_result"
    }
   ],
   "source": [
    "# Drop kolom yang tidak diperlukan pada num_cols seperti Is Fraudulent yang berupa label\n",
    "num_cols = num_cols.drop(['Is Fraudulent'])\n",
    "num_cols"
   ]
  },
  {
   "cell_type": "code",
   "execution_count": 20,
   "id": "a7ea7576",
   "metadata": {},
   "outputs": [
    {
     "data": {
      "text/plain": [
       "Transaction Amount    6.696741\n",
       "Quantity              0.005508\n",
       "Customer Age         -0.013832\n",
       "Account Age Days      0.023367\n",
       "Transaction Hour      0.033876\n",
       "dtype: float64"
      ]
     },
     "execution_count": 20,
     "metadata": {},
     "output_type": "execute_result"
    }
   ],
   "source": [
    "# Cek skew pada kolom numerik\n",
    "df[num_cols].skew()"
   ]
  },
  {
   "cell_type": "code",
   "execution_count": null,
   "id": "08759141",
   "metadata": {},
   "outputs": [
    {
     "data": {
      "text/plain": [
       "Index(['Transaction Date', 'Payment Method', 'Product Category',\n",
       "       'Customer Location', 'Device Used', 'IP Address', 'Shipping Address',\n",
       "       'Billing Address'],\n",
       "      dtype='object')"
      ]
     },
     "execution_count": 25,
     "metadata": {},
     "output_type": "execute_result"
    }
   ],
   "source": [
    "# Drop kolom yang tidak diperlukan pada cat_cols seperti Transaction ID dan Customer ID\n",
    "cat_cols = cat_cols.drop(['Transaction ID', 'Customer ID'])\n",
    "cat_cols"
   ]
  },
  {
   "cell_type": "code",
   "execution_count": 26,
   "id": "92c7abdf",
   "metadata": {},
   "outputs": [],
   "source": [
    "# Pisahkan data dari kolom label\n",
    "X = df.drop(['Is Fraudulent'], axis=1)\n",
    "y = df['Is Fraudulent']"
   ]
  },
  {
   "cell_type": "code",
   "execution_count": null,
   "id": "7a160dfa",
   "metadata": {},
   "outputs": [
    {
     "ename": "KeyError",
     "evalue": "'Is Fraudulent'",
     "output_type": "error",
     "traceback": [
      "\u001b[1;31m---------------------------------------------------------------------------\u001b[0m",
      "\u001b[1;31mKeyError\u001b[0m                                  Traceback (most recent call last)",
      "File \u001b[1;32mc:\\Users\\Dionisius\\miniconda3\\envs\\Hacktiv8\\Lib\\site-packages\\pandas\\core\\indexes\\base.py:3805\u001b[0m, in \u001b[0;36mIndex.get_loc\u001b[1;34m(self, key)\u001b[0m\n\u001b[0;32m   3804\u001b[0m \u001b[38;5;28;01mtry\u001b[39;00m:\n\u001b[1;32m-> 3805\u001b[0m     \u001b[38;5;28;01mreturn\u001b[39;00m \u001b[38;5;28;43mself\u001b[39;49m\u001b[38;5;241;43m.\u001b[39;49m\u001b[43m_engine\u001b[49m\u001b[38;5;241;43m.\u001b[39;49m\u001b[43mget_loc\u001b[49m\u001b[43m(\u001b[49m\u001b[43mcasted_key\u001b[49m\u001b[43m)\u001b[49m\n\u001b[0;32m   3806\u001b[0m \u001b[38;5;28;01mexcept\u001b[39;00m \u001b[38;5;167;01mKeyError\u001b[39;00m \u001b[38;5;28;01mas\u001b[39;00m err:\n",
      "File \u001b[1;32mindex.pyx:167\u001b[0m, in \u001b[0;36mpandas._libs.index.IndexEngine.get_loc\u001b[1;34m()\u001b[0m\n",
      "File \u001b[1;32mindex.pyx:196\u001b[0m, in \u001b[0;36mpandas._libs.index.IndexEngine.get_loc\u001b[1;34m()\u001b[0m\n",
      "File \u001b[1;32mpandas\\\\_libs\\\\hashtable_class_helper.pxi:7081\u001b[0m, in \u001b[0;36mpandas._libs.hashtable.PyObjectHashTable.get_item\u001b[1;34m()\u001b[0m\n",
      "File \u001b[1;32mpandas\\\\_libs\\\\hashtable_class_helper.pxi:7089\u001b[0m, in \u001b[0;36mpandas._libs.hashtable.PyObjectHashTable.get_item\u001b[1;34m()\u001b[0m\n",
      "\u001b[1;31mKeyError\u001b[0m: 'Is Fraudulent'",
      "\nThe above exception was the direct cause of the following exception:\n",
      "\u001b[1;31mKeyError\u001b[0m                                  Traceback (most recent call last)",
      "Cell \u001b[1;32mIn[28], line 3\u001b[0m\n\u001b[0;32m      1\u001b[0m \u001b[38;5;66;03m# Cek korelasi antar kolom numerik dengan target\u001b[39;00m\n\u001b[0;32m      2\u001b[0m corr \u001b[38;5;241m=\u001b[39m X[num_cols]\u001b[38;5;241m.\u001b[39mcorr()\n\u001b[1;32m----> 3\u001b[0m \u001b[43mcorr\u001b[49m\u001b[43m[\u001b[49m\u001b[38;5;124;43m'\u001b[39;49m\u001b[38;5;124;43mIs Fraudulent\u001b[39;49m\u001b[38;5;124;43m'\u001b[39;49m\u001b[43m]\u001b[49m\u001b[38;5;241m.\u001b[39msort_values(ascending\u001b[38;5;241m=\u001b[39m\u001b[38;5;28;01mFalse\u001b[39;00m)\n",
      "File \u001b[1;32mc:\\Users\\Dionisius\\miniconda3\\envs\\Hacktiv8\\Lib\\site-packages\\pandas\\core\\frame.py:4102\u001b[0m, in \u001b[0;36mDataFrame.__getitem__\u001b[1;34m(self, key)\u001b[0m\n\u001b[0;32m   4100\u001b[0m \u001b[38;5;28;01mif\u001b[39;00m \u001b[38;5;28mself\u001b[39m\u001b[38;5;241m.\u001b[39mcolumns\u001b[38;5;241m.\u001b[39mnlevels \u001b[38;5;241m>\u001b[39m \u001b[38;5;241m1\u001b[39m:\n\u001b[0;32m   4101\u001b[0m     \u001b[38;5;28;01mreturn\u001b[39;00m \u001b[38;5;28mself\u001b[39m\u001b[38;5;241m.\u001b[39m_getitem_multilevel(key)\n\u001b[1;32m-> 4102\u001b[0m indexer \u001b[38;5;241m=\u001b[39m \u001b[38;5;28;43mself\u001b[39;49m\u001b[38;5;241;43m.\u001b[39;49m\u001b[43mcolumns\u001b[49m\u001b[38;5;241;43m.\u001b[39;49m\u001b[43mget_loc\u001b[49m\u001b[43m(\u001b[49m\u001b[43mkey\u001b[49m\u001b[43m)\u001b[49m\n\u001b[0;32m   4103\u001b[0m \u001b[38;5;28;01mif\u001b[39;00m is_integer(indexer):\n\u001b[0;32m   4104\u001b[0m     indexer \u001b[38;5;241m=\u001b[39m [indexer]\n",
      "File \u001b[1;32mc:\\Users\\Dionisius\\miniconda3\\envs\\Hacktiv8\\Lib\\site-packages\\pandas\\core\\indexes\\base.py:3812\u001b[0m, in \u001b[0;36mIndex.get_loc\u001b[1;34m(self, key)\u001b[0m\n\u001b[0;32m   3807\u001b[0m     \u001b[38;5;28;01mif\u001b[39;00m \u001b[38;5;28misinstance\u001b[39m(casted_key, \u001b[38;5;28mslice\u001b[39m) \u001b[38;5;129;01mor\u001b[39;00m (\n\u001b[0;32m   3808\u001b[0m         \u001b[38;5;28misinstance\u001b[39m(casted_key, abc\u001b[38;5;241m.\u001b[39mIterable)\n\u001b[0;32m   3809\u001b[0m         \u001b[38;5;129;01mand\u001b[39;00m \u001b[38;5;28many\u001b[39m(\u001b[38;5;28misinstance\u001b[39m(x, \u001b[38;5;28mslice\u001b[39m) \u001b[38;5;28;01mfor\u001b[39;00m x \u001b[38;5;129;01min\u001b[39;00m casted_key)\n\u001b[0;32m   3810\u001b[0m     ):\n\u001b[0;32m   3811\u001b[0m         \u001b[38;5;28;01mraise\u001b[39;00m InvalidIndexError(key)\n\u001b[1;32m-> 3812\u001b[0m     \u001b[38;5;28;01mraise\u001b[39;00m \u001b[38;5;167;01mKeyError\u001b[39;00m(key) \u001b[38;5;28;01mfrom\u001b[39;00m\u001b[38;5;250m \u001b[39m\u001b[38;5;21;01merr\u001b[39;00m\n\u001b[0;32m   3813\u001b[0m \u001b[38;5;28;01mexcept\u001b[39;00m \u001b[38;5;167;01mTypeError\u001b[39;00m:\n\u001b[0;32m   3814\u001b[0m     \u001b[38;5;66;03m# If we have a listlike key, _check_indexing_error will raise\u001b[39;00m\n\u001b[0;32m   3815\u001b[0m     \u001b[38;5;66;03m#  InvalidIndexError. Otherwise we fall through and re-raise\u001b[39;00m\n\u001b[0;32m   3816\u001b[0m     \u001b[38;5;66;03m#  the TypeError.\u001b[39;00m\n\u001b[0;32m   3817\u001b[0m     \u001b[38;5;28mself\u001b[39m\u001b[38;5;241m.\u001b[39m_check_indexing_error(key)\n",
      "\u001b[1;31mKeyError\u001b[0m: 'Is Fraudulent'"
     ]
    }
   ],
   "source": [
    "# Cek korelasi antar kolom numerik dengan target\n"
   ]
  },
  {
   "cell_type": "code",
   "execution_count": null,
   "id": "226a829c",
   "metadata": {},
   "outputs": [],
   "source": []
  }
 ],
 "metadata": {
  "kernelspec": {
   "display_name": "base",
   "language": "python",
   "name": "python3"
  },
  "language_info": {
   "codemirror_mode": {
    "name": "ipython",
    "version": 3
   },
   "file_extension": ".py",
   "mimetype": "text/x-python",
   "name": "python",
   "nbconvert_exporter": "python",
   "pygments_lexer": "ipython3",
   "version": "3.12.2"
  }
 },
 "nbformat": 4,
 "nbformat_minor": 5
}
