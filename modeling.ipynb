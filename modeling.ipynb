{
 "cells": [
  {
   "cell_type": "code",
   "execution_count": 34,
   "id": "ce485e0e",
   "metadata": {},
   "outputs": [],
   "source": [
    "import pandas as pd\n",
    "\n",
    "# import encoders and scalers\n",
    "from sklearn.preprocessing import OneHotEncoder, RobustScaler\n",
    "from sklearn.compose import ColumnTransformer\n",
    "from sklearn.pipeline import Pipeline\n",
    "from sklearn.ensemble import RandomForestClassifier\n",
    "from sklearn.linear_model import LogisticRegression\n",
    "from sklearn.model_selection import train_test_split"
   ]
  },
  {
   "cell_type": "code",
   "execution_count": 48,
   "id": "6fee5b4d",
   "metadata": {},
   "outputs": [
    {
     "data": {
      "text/html": [
       "<div>\n",
       "<style scoped>\n",
       "    .dataframe tbody tr th:only-of-type {\n",
       "        vertical-align: middle;\n",
       "    }\n",
       "\n",
       "    .dataframe tbody tr th {\n",
       "        vertical-align: top;\n",
       "    }\n",
       "\n",
       "    .dataframe thead th {\n",
       "        text-align: right;\n",
       "    }\n",
       "</style>\n",
       "<table border=\"1\" class=\"dataframe\">\n",
       "  <thead>\n",
       "    <tr style=\"text-align: right;\">\n",
       "      <th></th>\n",
       "      <th>trans_date_trans_time</th>\n",
       "      <th>cc_num</th>\n",
       "      <th>merchant</th>\n",
       "      <th>category</th>\n",
       "      <th>amt</th>\n",
       "      <th>first</th>\n",
       "      <th>last</th>\n",
       "      <th>gender</th>\n",
       "      <th>street</th>\n",
       "      <th>city</th>\n",
       "      <th>...</th>\n",
       "      <th>lat</th>\n",
       "      <th>long</th>\n",
       "      <th>city_pop</th>\n",
       "      <th>job</th>\n",
       "      <th>dob</th>\n",
       "      <th>trans_num</th>\n",
       "      <th>unix_time</th>\n",
       "      <th>merch_lat</th>\n",
       "      <th>merch_long</th>\n",
       "      <th>is_fraud</th>\n",
       "    </tr>\n",
       "  </thead>\n",
       "  <tbody>\n",
       "    <tr>\n",
       "      <th>0</th>\n",
       "      <td>2019-01-01 00:01:16</td>\n",
       "      <td>3534093764340240</td>\n",
       "      <td>fraud_Kutch, Hermiston and Farrell</td>\n",
       "      <td>gas_transport</td>\n",
       "      <td>45,0</td>\n",
       "      <td>Jeremy</td>\n",
       "      <td>White</td>\n",
       "      <td>M</td>\n",
       "      <td>9443 Cynthia Court Apt. 038</td>\n",
       "      <td>Boulder</td>\n",
       "      <td>...</td>\n",
       "      <td>46,2306</td>\n",
       "      <td>-112,1138</td>\n",
       "      <td>1939</td>\n",
       "      <td>Patent attorney</td>\n",
       "      <td>1967-01-12</td>\n",
       "      <td>6b849c168bdad6f867558c3793159a81</td>\n",
       "      <td>1325376076</td>\n",
       "      <td>47,034331</td>\n",
       "      <td>-112,561071</td>\n",
       "      <td>0</td>\n",
       "    </tr>\n",
       "    <tr>\n",
       "      <th>1</th>\n",
       "      <td>2019-01-01 00:06:23</td>\n",
       "      <td>4642894980163</td>\n",
       "      <td>fraud_Rutherford-Mertz</td>\n",
       "      <td>grocery_pos</td>\n",
       "      <td>24,74</td>\n",
       "      <td>Eddie</td>\n",
       "      <td>Mendez</td>\n",
       "      <td>M</td>\n",
       "      <td>1831 Faith View Suite 653</td>\n",
       "      <td>Clarinda</td>\n",
       "      <td>...</td>\n",
       "      <td>40,7491</td>\n",
       "      <td>-95,038</td>\n",
       "      <td>7297</td>\n",
       "      <td>IT trainer</td>\n",
       "      <td>1990-07-13</td>\n",
       "      <td>d71c95ab6b7356dd74389d41df429c87</td>\n",
       "      <td>1325376383</td>\n",
       "      <td>40,275891</td>\n",
       "      <td>-96,011548</td>\n",
       "      <td>0</td>\n",
       "    </tr>\n",
       "    <tr>\n",
       "      <th>2</th>\n",
       "      <td>2019-01-01 00:21:32</td>\n",
       "      <td>4334230547694630</td>\n",
       "      <td>fraud_Bruen-Yost</td>\n",
       "      <td>misc_pos</td>\n",
       "      <td>6,85</td>\n",
       "      <td>Scott</td>\n",
       "      <td>Martin</td>\n",
       "      <td>M</td>\n",
       "      <td>7483 Navarro Flats</td>\n",
       "      <td>Freedom</td>\n",
       "      <td>...</td>\n",
       "      <td>43,0172</td>\n",
       "      <td>-111,0292</td>\n",
       "      <td>471</td>\n",
       "      <td>Education officer, museum</td>\n",
       "      <td>1967-08-02</td>\n",
       "      <td>f3c43d336e92a44fc2fb67058d5949e3</td>\n",
       "      <td>1325377292</td>\n",
       "      <td>43,753735</td>\n",
       "      <td>-111,454923</td>\n",
       "      <td>0</td>\n",
       "    </tr>\n",
       "    <tr>\n",
       "      <th>3</th>\n",
       "      <td>2019-01-01 00:22:44</td>\n",
       "      <td>630412733309</td>\n",
       "      <td>fraud_Torphy-Goyette</td>\n",
       "      <td>shopping_pos</td>\n",
       "      <td>66,21</td>\n",
       "      <td>Heather</td>\n",
       "      <td>Stanton</td>\n",
       "      <td>F</td>\n",
       "      <td>445 Jerry Lights Apt. 081</td>\n",
       "      <td>Republic</td>\n",
       "      <td>...</td>\n",
       "      <td>46,368</td>\n",
       "      <td>-87,9938</td>\n",
       "      <td>1038</td>\n",
       "      <td>Armed forces training and education officer</td>\n",
       "      <td>1964-04-22</td>\n",
       "      <td>20f048d3907dbb9978e23bee7b7578ce</td>\n",
       "      <td>1325377364</td>\n",
       "      <td>46,412038</td>\n",
       "      <td>-88,516663</td>\n",
       "      <td>0</td>\n",
       "    </tr>\n",
       "    <tr>\n",
       "      <th>4</th>\n",
       "      <td>2019-01-01 00:23:58</td>\n",
       "      <td>374125201044065</td>\n",
       "      <td>fraud_Bahringer, Schoen and Corkery</td>\n",
       "      <td>shopping_pos</td>\n",
       "      <td>9,03</td>\n",
       "      <td>Christopher</td>\n",
       "      <td>Gilbert</td>\n",
       "      <td>M</td>\n",
       "      <td>20937 Reed Lakes Apt. 271</td>\n",
       "      <td>Washington</td>\n",
       "      <td>...</td>\n",
       "      <td>38,9757</td>\n",
       "      <td>-77,0282</td>\n",
       "      <td>601723</td>\n",
       "      <td>Optician, dispensing</td>\n",
       "      <td>1970-07-20</td>\n",
       "      <td>c733711c521c41c578f4a964d8350df0</td>\n",
       "      <td>1325377438</td>\n",
       "      <td>38,880898</td>\n",
       "      <td>-76,44111600000002</td>\n",
       "      <td>0</td>\n",
       "    </tr>\n",
       "  </tbody>\n",
       "</table>\n",
       "<p>5 rows × 22 columns</p>\n",
       "</div>"
      ],
      "text/plain": [
       "  trans_date_trans_time            cc_num  \\\n",
       "0   2019-01-01 00:01:16  3534093764340240   \n",
       "1   2019-01-01 00:06:23     4642894980163   \n",
       "2   2019-01-01 00:21:32  4334230547694630   \n",
       "3   2019-01-01 00:22:44      630412733309   \n",
       "4   2019-01-01 00:23:58   374125201044065   \n",
       "\n",
       "                              merchant       category    amt        first  \\\n",
       "0   fraud_Kutch, Hermiston and Farrell  gas_transport   45,0       Jeremy   \n",
       "1               fraud_Rutherford-Mertz    grocery_pos  24,74        Eddie   \n",
       "2                     fraud_Bruen-Yost       misc_pos   6,85        Scott   \n",
       "3                 fraud_Torphy-Goyette   shopping_pos  66,21      Heather   \n",
       "4  fraud_Bahringer, Schoen and Corkery   shopping_pos   9,03  Christopher   \n",
       "\n",
       "      last gender                       street        city  ...      lat  \\\n",
       "0    White      M  9443 Cynthia Court Apt. 038     Boulder  ...  46,2306   \n",
       "1   Mendez      M    1831 Faith View Suite 653    Clarinda  ...  40,7491   \n",
       "2   Martin      M           7483 Navarro Flats     Freedom  ...  43,0172   \n",
       "3  Stanton      F    445 Jerry Lights Apt. 081    Republic  ...   46,368   \n",
       "4  Gilbert      M    20937 Reed Lakes Apt. 271  Washington  ...  38,9757   \n",
       "\n",
       "        long city_pop                                          job  \\\n",
       "0  -112,1138     1939                              Patent attorney   \n",
       "1    -95,038     7297                                   IT trainer   \n",
       "2  -111,0292      471                    Education officer, museum   \n",
       "3   -87,9938     1038  Armed forces training and education officer   \n",
       "4   -77,0282   601723                         Optician, dispensing   \n",
       "\n",
       "          dob                         trans_num   unix_time  merch_lat  \\\n",
       "0  1967-01-12  6b849c168bdad6f867558c3793159a81  1325376076  47,034331   \n",
       "1  1990-07-13  d71c95ab6b7356dd74389d41df429c87  1325376383  40,275891   \n",
       "2  1967-08-02  f3c43d336e92a44fc2fb67058d5949e3  1325377292  43,753735   \n",
       "3  1964-04-22  20f048d3907dbb9978e23bee7b7578ce  1325377364  46,412038   \n",
       "4  1970-07-20  c733711c521c41c578f4a964d8350df0  1325377438  38,880898   \n",
       "\n",
       "           merch_long is_fraud  \n",
       "0         -112,561071        0  \n",
       "1          -96,011548        0  \n",
       "2         -111,454923        0  \n",
       "3          -88,516663        0  \n",
       "4  -76,44111600000002        0  \n",
       "\n",
       "[5 rows x 22 columns]"
      ]
     },
     "execution_count": 48,
     "metadata": {},
     "output_type": "execute_result"
    }
   ],
   "source": [
    "df = pd.read_csv('DatosPrueba.csv', delimiter=';')\n",
    "df = df.drop(columns=['Unnamed: 0.1'], axis=1)\n",
    "df = df.drop(columns=['Unnamed: 0'], axis=1)\n",
    "df.head()"
   ]
  },
  {
   "cell_type": "code",
   "execution_count": 49,
   "id": "c564d9b4",
   "metadata": {},
   "outputs": [],
   "source": [
    "# Ubah amt menjadi float\n",
    "df['amt'] = df['amt'].str.replace(',', '.').astype(float)"
   ]
  },
  {
   "cell_type": "code",
   "execution_count": 51,
   "id": "bc14971c",
   "metadata": {},
   "outputs": [
    {
     "name": "stdout",
     "output_type": "stream",
     "text": [
      "Numerical columns: Index(['cc_num', 'amt', 'zip', 'city_pop', 'unix_time', 'is_fraud'], dtype='object')\n",
      "Categorical columns: Index(['trans_date_trans_time', 'merchant', 'category', 'first', 'last',\n",
      "       'gender', 'street', 'city', 'state', 'lat', 'long', 'job', 'dob',\n",
      "       'trans_num', 'merch_lat', 'merch_long'],\n",
      "      dtype='object')\n"
     ]
    }
   ],
   "source": [
    "# Memisahkan kolom numerik dengan kategorik\n",
    "num_cols = df.select_dtypes(include=['int64', 'float64']).columns\n",
    "cat_cols = df.select_dtypes(include=['object']).columns\n",
    "print(\"Numerical columns:\", num_cols)\n",
    "print(\"Categorical columns:\", cat_cols)"
   ]
  },
  {
   "cell_type": "code",
   "execution_count": null,
   "id": "457ffee7",
   "metadata": {},
   "outputs": [],
   "source": [
    "# Filtering numerical columns\n",
    "\n",
    "num_cols = num_cols[num_cols == 'amt']\n",
    "print(\"Updated Numerical columns:\", num_cols)"
   ]
  },
  {
   "cell_type": "code",
   "execution_count": null,
   "id": "d37c8dd5",
   "metadata": {},
   "outputs": [
    {
     "name": "stdout",
     "output_type": "stream",
     "text": [
      "Updated Numerical columns: Index(['Transaction Amount', 'Quantity', 'Customer Age', 'Account Age Days',\n",
      "       'Transaction Hour'],\n",
      "      dtype='object')\n"
     ]
    }
   ],
   "source": [
    "# Menghapus kolom Is Fraudulent karena berupa kolom label pada num_cols\n",
    "num_cols = num_cols.drop('is_fraud')\n",
    "print(\"Updated Numerical columns:\", num_cols)"
   ]
  },
  {
   "cell_type": "code",
   "execution_count": 15,
   "id": "c01d5df1",
   "metadata": {},
   "outputs": [
    {
     "data": {
      "text/plain": [
       "Transaction Amount    6.696741\n",
       "Transaction Hour      0.033876\n",
       "Account Age Days      0.023367\n",
       "Quantity              0.005508\n",
       "Customer Age         -0.013832\n",
       "dtype: float64"
      ]
     },
     "execution_count": 15,
     "metadata": {},
     "output_type": "execute_result"
    }
   ],
   "source": [
    "# Cek skew pada kolom numerik\n",
    "df[num_cols].skew().sort_values(ascending=False)"
   ]
  },
  {
   "cell_type": "code",
   "execution_count": 16,
   "id": "3fe2f138",
   "metadata": {},
   "outputs": [
    {
     "name": "stdout",
     "output_type": "stream",
     "text": [
      "Updated Categorical columns: Index(['Transaction Date', 'Payment Method', 'Product Category',\n",
      "       'Customer Location', 'Device Used', 'IP Address', 'Shipping Address',\n",
      "       'Billing Address'],\n",
      "      dtype='object')\n"
     ]
    }
   ],
   "source": [
    "# Menghapus kolom yang tidak diperlukan seperti Transaction ID dan Customer ID pada cat_cols\n",
    "cat_cols = cat_cols.drop(['Transaction ID', 'Customer ID'])\n",
    "print(\"Updated Categorical columns:\", cat_cols)"
   ]
  },
  {
   "cell_type": "code",
   "execution_count": 17,
   "id": "29f3c8b7",
   "metadata": {},
   "outputs": [
    {
     "data": {
      "text/plain": [
       "Transaction Date     23607\n",
       "Payment Method           4\n",
       "Product Category         5\n",
       "Customer Location    14868\n",
       "Device Used              3\n",
       "IP Address           23634\n",
       "Shipping Address     23634\n",
       "Billing Address      23634\n",
       "dtype: int64"
      ]
     },
     "execution_count": 17,
     "metadata": {},
     "output_type": "execute_result"
    }
   ],
   "source": [
    "# Cek kardinalitas pada kolom kategorik\n",
    "\n",
    "df[cat_cols].nunique()"
   ]
  },
  {
   "cell_type": "code",
   "execution_count": 18,
   "id": "3fd6f127",
   "metadata": {},
   "outputs": [
    {
     "data": {
      "text/plain": [
       "Is Fraudulent\n",
       "0    22412\n",
       "1     1222\n",
       "Name: count, dtype: int64"
      ]
     },
     "execution_count": 18,
     "metadata": {},
     "output_type": "execute_result"
    }
   ],
   "source": [
    "# Cek keseimbangan data label\n",
    "df['Is Fraudulent'].value_counts()"
   ]
  },
  {
   "cell_type": "code",
   "execution_count": 42,
   "id": "231039ef",
   "metadata": {},
   "outputs": [
    {
     "data": {
      "text/html": [
       "<div>\n",
       "<style scoped>\n",
       "    .dataframe tbody tr th:only-of-type {\n",
       "        vertical-align: middle;\n",
       "    }\n",
       "\n",
       "    .dataframe tbody tr th {\n",
       "        vertical-align: top;\n",
       "    }\n",
       "\n",
       "    .dataframe thead th {\n",
       "        text-align: right;\n",
       "    }\n",
       "</style>\n",
       "<table border=\"1\" class=\"dataframe\">\n",
       "  <thead>\n",
       "    <tr style=\"text-align: right;\">\n",
       "      <th></th>\n",
       "      <th>Transaction ID</th>\n",
       "      <th>Customer ID</th>\n",
       "      <th>Transaction Amount</th>\n",
       "      <th>Transaction Date</th>\n",
       "      <th>Payment Method</th>\n",
       "      <th>Product Category</th>\n",
       "      <th>Quantity</th>\n",
       "      <th>Customer Age</th>\n",
       "      <th>Customer Location</th>\n",
       "      <th>Device Used</th>\n",
       "      <th>IP Address</th>\n",
       "      <th>Shipping Address</th>\n",
       "      <th>Billing Address</th>\n",
       "      <th>Is Fraudulent</th>\n",
       "      <th>Account Age Days</th>\n",
       "      <th>Transaction Hour</th>\n",
       "    </tr>\n",
       "  </thead>\n",
       "  <tbody>\n",
       "  </tbody>\n",
       "</table>\n",
       "</div>"
      ],
      "text/plain": [
       "Empty DataFrame\n",
       "Columns: [Transaction ID, Customer ID, Transaction Amount, Transaction Date, Payment Method, Product Category, Quantity, Customer Age, Customer Location, Device Used, IP Address, Shipping Address, Billing Address, Is Fraudulent, Account Age Days, Transaction Hour]\n",
       "Index: []"
      ]
     },
     "execution_count": 42,
     "metadata": {},
     "output_type": "execute_result"
    }
   ],
   "source": [
    "df[df['Quantity']<=0]"
   ]
  },
  {
   "cell_type": "code",
   "execution_count": 30,
   "id": "de6fc36e",
   "metadata": {},
   "outputs": [],
   "source": [
    "# train test split\n",
    "x = df.drop(columns=['Is Fraudulent'])\n",
    "y = df['Is Fraudulent']\n",
    "x_train, x_test, y_train, y_test = train_test_split(x, y, test_size=0.2, random_state=42)"
   ]
  },
  {
   "cell_type": "code",
   "execution_count": 43,
   "id": "ab7484ea",
   "metadata": {},
   "outputs": [
    {
     "name": "stdout",
     "output_type": "stream",
     "text": [
      "Jumlah data setelah undersampling:\n",
      "Is Fraudulent\n",
      "0    980\n",
      "1    980\n",
      "Name: count, dtype: int64\n"
     ]
    }
   ],
   "source": [
    "from imblearn.under_sampling import RandomUnderSampler\n",
    "\n",
    "# Melakukan undersampling\n",
    "rus = RandomUnderSampler(random_state=42)\n",
    "x_train_under, y_train_under = rus.fit_resample(x_train, y_train)\n",
    "\n",
    "# Menampilkan jumlah data setelah undersampling\n",
    "print(\"Jumlah data setelah undersampling:\")\n",
    "print(y_train_under.value_counts())"
   ]
  },
  {
   "cell_type": "code",
   "execution_count": 32,
   "id": "34bb0f84",
   "metadata": {},
   "outputs": [],
   "source": [
    "# Memilih fitur numerik yang berupa Transaction Amount, Account Age Days, dan Transaction Hour\n",
    "\n",
    "num_cols_sel = ['Transaction Amount', 'Account Age Days', 'Transaction Hour']"
   ]
  },
  {
   "cell_type": "code",
   "execution_count": 35,
   "id": "a9b2c592",
   "metadata": {},
   "outputs": [
    {
     "name": "stdout",
     "output_type": "stream",
     "text": [
      "Logistic Regression Pipeline: Pipeline(steps=[('preprocessor',\n",
      "                 ColumnTransformer(transformers=[('num', 'passthrough',\n",
      "                                                  ['Transaction Amount',\n",
      "                                                   'Account Age Days',\n",
      "                                                   'Transaction Hour'])])),\n",
      "                ('scaler', RobustScaler()),\n",
      "                ('logreg', LogisticRegression(random_state=42))])\n",
      "Random Forest Pipeline: Pipeline(steps=[('preprocessor',\n",
      "                 ColumnTransformer(transformers=[('num', 'passthrough',\n",
      "                                                  ['Transaction Amount',\n",
      "                                                   'Account Age Days',\n",
      "                                                   'Transaction Hour'])])),\n",
      "                ('scaler', RobustScaler()),\n",
      "                ('rf', RandomForestClassifier(random_state=42))])\n"
     ]
    }
   ],
   "source": [
    "# ColumnTransformer untuk memilih hanya fitur pada num_cols_sel\n",
    "preprocessor = ColumnTransformer(\n",
    "    transformers=[\n",
    "        ('num', 'passthrough', num_cols_sel)  # Memilih kolom numerik yang diinginkan\n",
    "    ]\n",
    ")\n",
    "\n",
    "# Pipeline untuk Logistic Regression\n",
    "logreg_pipeline = Pipeline(steps=[\n",
    "    ('preprocessor', preprocessor),  # Preprocessing dengan ColumnTransformer\n",
    "    ('scaler', RobustScaler()),      # Standarisasi data numerik dengan RobustScaler\n",
    "    ('logreg', LogisticRegression(random_state=42))\n",
    "])\n",
    "\n",
    "# Pipeline untuk Random Forest\n",
    "rf_pipeline = Pipeline(steps=[\n",
    "    ('preprocessor', preprocessor),  # Preprocessing dengan ColumnTransformer\n",
    "    ('scaler', RobustScaler()),      # Standarisasi data numerik dengan RobustScaler\n",
    "    ('rf', RandomForestClassifier(random_state=42))\n",
    "])\n",
    "\n",
    "# Menampilkan pipeline\n",
    "print(\"Logistic Regression Pipeline:\", logreg_pipeline)\n",
    "print(\"Random Forest Pipeline:\", rf_pipeline)"
   ]
  },
  {
   "cell_type": "code",
   "execution_count": 45,
   "id": "f58f054f",
   "metadata": {},
   "outputs": [
    {
     "name": "stdout",
     "output_type": "stream",
     "text": [
      "Logistic Regression Train Accuracy: 0.7168367346938775\n",
      "Random Forest Train Accuracy: 1.0\n",
      "Logistic Regression Test Accuracy: 0.7277342923630209\n",
      "Random Forest Test Accuracy: 0.7670827163105564\n"
     ]
    }
   ],
   "source": [
    "# Melatih Logistic Regression\n",
    "logreg_pipeline.fit(x_train_under, y_train_under)\n",
    "\n",
    "# Melatih Random Forest\n",
    "rf_pipeline.fit(x_train_under, y_train_under)\n",
    "\n",
    "# Evaluasi Logistic Regression pada data train\n",
    "logreg_train_score = logreg_pipeline.score(x_train_under, y_train_under)\n",
    "print(\"Logistic Regression Train Accuracy:\", logreg_train_score)\n",
    "\n",
    "# Evaluasi Random Forest pada data train\n",
    "rf_train_score = rf_pipeline.score(x_train_under, y_train_under)\n",
    "print(\"Random Forest Train Accuracy:\", rf_train_score)\n",
    "\n",
    "# Evaluasi Logistic Regression pada data test\n",
    "logreg_test_score = logreg_pipeline.score(x_test, y_test)\n",
    "print(\"Logistic Regression Test Accuracy:\", logreg_test_score)\n",
    "\n",
    "# Evaluasi Random Forest pada data test\n",
    "rf_test_score = rf_pipeline.score(x_test, y_test)\n",
    "print(\"Random Forest Test Accuracy:\", rf_test_score)"
   ]
  },
  {
   "cell_type": "code",
   "execution_count": 37,
   "id": "bbd36c2a",
   "metadata": {},
   "outputs": [
    {
     "name": "stdout",
     "output_type": "stream",
     "text": [
      "Logistic Regression Train Accuracy: 0.9532448299571588\n",
      "Random Forest Train Accuracy: 1.0\n",
      "Logistic Regression Test Accuracy: 0.9526126507298498\n",
      "Random Forest Test Accuracy: 0.9496509414004655\n"
     ]
    }
   ],
   "source": [
    "# Evaluasi Logistic Regression pada data train\n",
    "logreg_train_score = logreg_pipeline.score(x_train, y_train)\n",
    "print(\"Logistic Regression Train Accuracy:\", logreg_train_score)\n",
    "\n",
    "# Evaluasi Random Forest pada data train\n",
    "rf_train_score = rf_pipeline.score(x_train, y_train)\n",
    "print(\"Random Forest Train Accuracy:\", rf_train_score)\n",
    "\n",
    "# Evaluasi Logistic Regression pada data test\n",
    "logreg_test_score = logreg_pipeline.score(x_test, y_test)\n",
    "print(\"Logistic Regression Test Accuracy:\", logreg_test_score)\n",
    "\n",
    "# Evaluasi Random Forest pada data test\n",
    "rf_test_score = rf_pipeline.score(x_test, y_test)\n",
    "print(\"Random Forest Test Accuracy:\", rf_test_score)"
   ]
  },
  {
   "cell_type": "code",
   "execution_count": 46,
   "id": "5439366a",
   "metadata": {},
   "outputs": [
    {
     "name": "stdout",
     "output_type": "stream",
     "text": [
      "Logistic Regression Train F1-Score (Class 1): 0.7098797699947726\n",
      "Logistic Regression Test F1-Score (Class 1): 0.20210787352758836\n",
      "Random Forest Train F1-Score (Class 1): 1.0\n",
      "Random Forest Test F1-Score (Class 1): 0.22953114065780267\n"
     ]
    }
   ],
   "source": [
    "from sklearn.metrics import f1_score\n",
    "\n",
    "# Evaluasi Logistic Regression pada data train\n",
    "logreg_train_f1_class_1 = f1_score(y_train_under, logreg_pipeline.predict(x_train_under), pos_label=1)\n",
    "print(\"Logistic Regression Train F1-Score (Class 1):\", logreg_train_f1_class_1)\n",
    "\n",
    "# Evaluasi Logistic Regression pada data test\n",
    "logreg_test_f1_class_1 = f1_score(y_test, logreg_pipeline.predict(x_test), pos_label=1)\n",
    "print(\"Logistic Regression Test F1-Score (Class 1):\", logreg_test_f1_class_1)\n",
    "\n",
    "# Evaluasi Random Forest pada data train\n",
    "rf_train_f1_class_1 = f1_score(y_train_under, rf_pipeline.predict(x_train_under), pos_label=1)\n",
    "print(\"Random Forest Train F1-Score (Class 1):\", rf_train_f1_class_1)\n",
    "\n",
    "# Evaluasi Random Forest pada data test\n",
    "rf_test_f1_class_1 = f1_score(y_test, rf_pipeline.predict(x_test), pos_label=1)\n",
    "print(\"Random Forest Test F1-Score (Class 1):\", rf_test_f1_class_1)"
   ]
  },
  {
   "cell_type": "code",
   "execution_count": null,
   "id": "c74d6cc2",
   "metadata": {},
   "outputs": [],
   "source": []
  }
 ],
 "metadata": {
  "kernelspec": {
   "display_name": "Hacktiv8",
   "language": "python",
   "name": "python3"
  },
  "language_info": {
   "codemirror_mode": {
    "name": "ipython",
    "version": 3
   },
   "file_extension": ".py",
   "mimetype": "text/x-python",
   "name": "python",
   "nbconvert_exporter": "python",
   "pygments_lexer": "ipython3",
   "version": "3.13.1"
  }
 },
 "nbformat": 4,
 "nbformat_minor": 5
}
