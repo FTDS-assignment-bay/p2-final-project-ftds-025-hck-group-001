{
 "cells": [
  {
   "cell_type": "code",
   "execution_count": 1,
   "id": "ce485e0e",
   "metadata": {},
   "outputs": [],
   "source": [
    "import pandas as pd\n",
    "import numpy as np\n",
    "\n",
    "import matplotlib.pyplot as plt\n",
    "import seaborn as sns\n",
    "\n",
    "import scipy "
   ]
  },
  {
   "cell_type": "code",
   "execution_count": 2,
   "id": "6fee5b4d",
   "metadata": {},
   "outputs": [
    {
     "data": {
      "text/html": [
       "<div>\n",
       "<style scoped>\n",
       "    .dataframe tbody tr th:only-of-type {\n",
       "        vertical-align: middle;\n",
       "    }\n",
       "\n",
       "    .dataframe tbody tr th {\n",
       "        vertical-align: top;\n",
       "    }\n",
       "\n",
       "    .dataframe thead th {\n",
       "        text-align: right;\n",
       "    }\n",
       "</style>\n",
       "<table border=\"1\" class=\"dataframe\">\n",
       "  <thead>\n",
       "    <tr style=\"text-align: right;\">\n",
       "      <th></th>\n",
       "      <th>trans_date_trans_time</th>\n",
       "      <th>cc_num</th>\n",
       "      <th>merchant</th>\n",
       "      <th>category</th>\n",
       "      <th>amt</th>\n",
       "      <th>first</th>\n",
       "      <th>last</th>\n",
       "      <th>gender</th>\n",
       "      <th>street</th>\n",
       "      <th>city</th>\n",
       "      <th>...</th>\n",
       "      <th>lat</th>\n",
       "      <th>long</th>\n",
       "      <th>city_pop</th>\n",
       "      <th>job</th>\n",
       "      <th>dob</th>\n",
       "      <th>trans_num</th>\n",
       "      <th>unix_time</th>\n",
       "      <th>merch_lat</th>\n",
       "      <th>merch_long</th>\n",
       "      <th>is_fraud</th>\n",
       "    </tr>\n",
       "  </thead>\n",
       "  <tbody>\n",
       "    <tr>\n",
       "      <th>0</th>\n",
       "      <td>2019-01-01 00:01:16</td>\n",
       "      <td>3534093764340240</td>\n",
       "      <td>fraud_Kutch, Hermiston and Farrell</td>\n",
       "      <td>gas_transport</td>\n",
       "      <td>45,0</td>\n",
       "      <td>Jeremy</td>\n",
       "      <td>White</td>\n",
       "      <td>M</td>\n",
       "      <td>9443 Cynthia Court Apt. 038</td>\n",
       "      <td>Boulder</td>\n",
       "      <td>...</td>\n",
       "      <td>46,2306</td>\n",
       "      <td>-112,1138</td>\n",
       "      <td>1939</td>\n",
       "      <td>Patent attorney</td>\n",
       "      <td>1967-01-12</td>\n",
       "      <td>6b849c168bdad6f867558c3793159a81</td>\n",
       "      <td>1325376076</td>\n",
       "      <td>47,034331</td>\n",
       "      <td>-112,561071</td>\n",
       "      <td>0</td>\n",
       "    </tr>\n",
       "    <tr>\n",
       "      <th>1</th>\n",
       "      <td>2019-01-01 00:06:23</td>\n",
       "      <td>4642894980163</td>\n",
       "      <td>fraud_Rutherford-Mertz</td>\n",
       "      <td>grocery_pos</td>\n",
       "      <td>24,74</td>\n",
       "      <td>Eddie</td>\n",
       "      <td>Mendez</td>\n",
       "      <td>M</td>\n",
       "      <td>1831 Faith View Suite 653</td>\n",
       "      <td>Clarinda</td>\n",
       "      <td>...</td>\n",
       "      <td>40,7491</td>\n",
       "      <td>-95,038</td>\n",
       "      <td>7297</td>\n",
       "      <td>IT trainer</td>\n",
       "      <td>1990-07-13</td>\n",
       "      <td>d71c95ab6b7356dd74389d41df429c87</td>\n",
       "      <td>1325376383</td>\n",
       "      <td>40,275891</td>\n",
       "      <td>-96,011548</td>\n",
       "      <td>0</td>\n",
       "    </tr>\n",
       "    <tr>\n",
       "      <th>2</th>\n",
       "      <td>2019-01-01 00:21:32</td>\n",
       "      <td>4334230547694630</td>\n",
       "      <td>fraud_Bruen-Yost</td>\n",
       "      <td>misc_pos</td>\n",
       "      <td>6,85</td>\n",
       "      <td>Scott</td>\n",
       "      <td>Martin</td>\n",
       "      <td>M</td>\n",
       "      <td>7483 Navarro Flats</td>\n",
       "      <td>Freedom</td>\n",
       "      <td>...</td>\n",
       "      <td>43,0172</td>\n",
       "      <td>-111,0292</td>\n",
       "      <td>471</td>\n",
       "      <td>Education officer, museum</td>\n",
       "      <td>1967-08-02</td>\n",
       "      <td>f3c43d336e92a44fc2fb67058d5949e3</td>\n",
       "      <td>1325377292</td>\n",
       "      <td>43,753735</td>\n",
       "      <td>-111,454923</td>\n",
       "      <td>0</td>\n",
       "    </tr>\n",
       "    <tr>\n",
       "      <th>3</th>\n",
       "      <td>2019-01-01 00:22:44</td>\n",
       "      <td>630412733309</td>\n",
       "      <td>fraud_Torphy-Goyette</td>\n",
       "      <td>shopping_pos</td>\n",
       "      <td>66,21</td>\n",
       "      <td>Heather</td>\n",
       "      <td>Stanton</td>\n",
       "      <td>F</td>\n",
       "      <td>445 Jerry Lights Apt. 081</td>\n",
       "      <td>Republic</td>\n",
       "      <td>...</td>\n",
       "      <td>46,368</td>\n",
       "      <td>-87,9938</td>\n",
       "      <td>1038</td>\n",
       "      <td>Armed forces training and education officer</td>\n",
       "      <td>1964-04-22</td>\n",
       "      <td>20f048d3907dbb9978e23bee7b7578ce</td>\n",
       "      <td>1325377364</td>\n",
       "      <td>46,412038</td>\n",
       "      <td>-88,516663</td>\n",
       "      <td>0</td>\n",
       "    </tr>\n",
       "    <tr>\n",
       "      <th>4</th>\n",
       "      <td>2019-01-01 00:23:58</td>\n",
       "      <td>374125201044065</td>\n",
       "      <td>fraud_Bahringer, Schoen and Corkery</td>\n",
       "      <td>shopping_pos</td>\n",
       "      <td>9,03</td>\n",
       "      <td>Christopher</td>\n",
       "      <td>Gilbert</td>\n",
       "      <td>M</td>\n",
       "      <td>20937 Reed Lakes Apt. 271</td>\n",
       "      <td>Washington</td>\n",
       "      <td>...</td>\n",
       "      <td>38,9757</td>\n",
       "      <td>-77,0282</td>\n",
       "      <td>601723</td>\n",
       "      <td>Optician, dispensing</td>\n",
       "      <td>1970-07-20</td>\n",
       "      <td>c733711c521c41c578f4a964d8350df0</td>\n",
       "      <td>1325377438</td>\n",
       "      <td>38,880898</td>\n",
       "      <td>-76,44111600000002</td>\n",
       "      <td>0</td>\n",
       "    </tr>\n",
       "  </tbody>\n",
       "</table>\n",
       "<p>5 rows × 22 columns</p>\n",
       "</div>"
      ],
      "text/plain": [
       "  trans_date_trans_time            cc_num  \\\n",
       "0   2019-01-01 00:01:16  3534093764340240   \n",
       "1   2019-01-01 00:06:23     4642894980163   \n",
       "2   2019-01-01 00:21:32  4334230547694630   \n",
       "3   2019-01-01 00:22:44      630412733309   \n",
       "4   2019-01-01 00:23:58   374125201044065   \n",
       "\n",
       "                              merchant       category    amt        first  \\\n",
       "0   fraud_Kutch, Hermiston and Farrell  gas_transport   45,0       Jeremy   \n",
       "1               fraud_Rutherford-Mertz    grocery_pos  24,74        Eddie   \n",
       "2                     fraud_Bruen-Yost       misc_pos   6,85        Scott   \n",
       "3                 fraud_Torphy-Goyette   shopping_pos  66,21      Heather   \n",
       "4  fraud_Bahringer, Schoen and Corkery   shopping_pos   9,03  Christopher   \n",
       "\n",
       "      last gender                       street        city  ...      lat  \\\n",
       "0    White      M  9443 Cynthia Court Apt. 038     Boulder  ...  46,2306   \n",
       "1   Mendez      M    1831 Faith View Suite 653    Clarinda  ...  40,7491   \n",
       "2   Martin      M           7483 Navarro Flats     Freedom  ...  43,0172   \n",
       "3  Stanton      F    445 Jerry Lights Apt. 081    Republic  ...   46,368   \n",
       "4  Gilbert      M    20937 Reed Lakes Apt. 271  Washington  ...  38,9757   \n",
       "\n",
       "        long city_pop                                          job  \\\n",
       "0  -112,1138     1939                              Patent attorney   \n",
       "1    -95,038     7297                                   IT trainer   \n",
       "2  -111,0292      471                    Education officer, museum   \n",
       "3   -87,9938     1038  Armed forces training and education officer   \n",
       "4   -77,0282   601723                         Optician, dispensing   \n",
       "\n",
       "          dob                         trans_num   unix_time  merch_lat  \\\n",
       "0  1967-01-12  6b849c168bdad6f867558c3793159a81  1325376076  47,034331   \n",
       "1  1990-07-13  d71c95ab6b7356dd74389d41df429c87  1325376383  40,275891   \n",
       "2  1967-08-02  f3c43d336e92a44fc2fb67058d5949e3  1325377292  43,753735   \n",
       "3  1964-04-22  20f048d3907dbb9978e23bee7b7578ce  1325377364  46,412038   \n",
       "4  1970-07-20  c733711c521c41c578f4a964d8350df0  1325377438  38,880898   \n",
       "\n",
       "           merch_long is_fraud  \n",
       "0         -112,561071        0  \n",
       "1          -96,011548        0  \n",
       "2         -111,454923        0  \n",
       "3          -88,516663        0  \n",
       "4  -76,44111600000002        0  \n",
       "\n",
       "[5 rows x 22 columns]"
      ]
     },
     "execution_count": 2,
     "metadata": {},
     "output_type": "execute_result"
    }
   ],
   "source": [
    "df = pd.read_csv('DatosPrueba.csv', delimiter=';')\n",
    "df = df.drop(columns=['Unnamed: 0.1', 'Unnamed: 0'], axis=1)\n",
    "df.head()"
   ]
  },
  {
   "cell_type": "code",
   "execution_count": 3,
   "id": "fe657001",
   "metadata": {},
   "outputs": [],
   "source": [
    "# Replace commas with dots and convert to float\n",
    "df['amt'] = df['amt'].str.replace(',', '.').astype(float)\n",
    "df['lat'] = df['lat'].str.replace(',', '.').astype(float)\n",
    "df['long'] = df['long'].str.replace(',', '.').astype(float)\n",
    "df['merch_lat'] = df['merch_lat'].str.replace(',', '.').astype(float)\n",
    "df['merch_long'] = df['merch_long'].str.replace(',', '.').astype(float)"
   ]
  },
  {
   "cell_type": "code",
   "execution_count": 4,
   "id": "2169bd84",
   "metadata": {},
   "outputs": [
    {
     "name": "stdout",
     "output_type": "stream",
     "text": [
      "<class 'pandas.core.frame.DataFrame'>\n",
      "RangeIndex: 200881 entries, 0 to 200880\n",
      "Data columns (total 22 columns):\n",
      " #   Column                 Non-Null Count   Dtype  \n",
      "---  ------                 --------------   -----  \n",
      " 0   trans_date_trans_time  200881 non-null  object \n",
      " 1   cc_num                 200881 non-null  int64  \n",
      " 2   merchant               200881 non-null  object \n",
      " 3   category               200881 non-null  object \n",
      " 4   amt                    200881 non-null  float64\n",
      " 5   first                  200881 non-null  object \n",
      " 6   last                   200881 non-null  object \n",
      " 7   gender                 200881 non-null  object \n",
      " 8   street                 200881 non-null  object \n",
      " 9   city                   200881 non-null  object \n",
      " 10  state                  200881 non-null  object \n",
      " 11  zip                    200881 non-null  int64  \n",
      " 12  lat                    200881 non-null  float64\n",
      " 13  long                   200881 non-null  float64\n",
      " 14  city_pop               200881 non-null  int64  \n",
      " 15  job                    200881 non-null  object \n",
      " 16  dob                    200881 non-null  object \n",
      " 17  trans_num              200881 non-null  object \n",
      " 18  unix_time              200881 non-null  int64  \n",
      " 19  merch_lat              200881 non-null  float64\n",
      " 20  merch_long             200881 non-null  float64\n",
      " 21  is_fraud               200881 non-null  int64  \n",
      "dtypes: float64(5), int64(5), object(12)\n",
      "memory usage: 33.7+ MB\n"
     ]
    }
   ],
   "source": [
    "df.info()"
   ]
  },
  {
   "cell_type": "code",
   "execution_count": 5,
   "id": "dc3fc5f2",
   "metadata": {},
   "outputs": [
    {
     "data": {
      "text/plain": [
       "trans_date_trans_time    0\n",
       "cc_num                   0\n",
       "merchant                 0\n",
       "category                 0\n",
       "amt                      0\n",
       "first                    0\n",
       "last                     0\n",
       "gender                   0\n",
       "street                   0\n",
       "city                     0\n",
       "state                    0\n",
       "zip                      0\n",
       "lat                      0\n",
       "long                     0\n",
       "city_pop                 0\n",
       "job                      0\n",
       "dob                      0\n",
       "trans_num                0\n",
       "unix_time                0\n",
       "merch_lat                0\n",
       "merch_long               0\n",
       "is_fraud                 0\n",
       "dtype: int64"
      ]
     },
     "execution_count": 5,
     "metadata": {},
     "output_type": "execute_result"
    }
   ],
   "source": [
    "df.isnull().sum()"
   ]
  },
  {
   "cell_type": "code",
   "execution_count": 6,
   "id": "c29e3e93",
   "metadata": {},
   "outputs": [
    {
     "data": {
      "text/plain": [
       "np.int64(0)"
      ]
     },
     "execution_count": 6,
     "metadata": {},
     "output_type": "execute_result"
    }
   ],
   "source": [
    "df.duplicated().sum()"
   ]
  },
  {
   "cell_type": "code",
   "execution_count": 7,
   "id": "4900bdb1",
   "metadata": {},
   "outputs": [
    {
     "data": {
      "text/html": [
       "<div>\n",
       "<style scoped>\n",
       "    .dataframe tbody tr th:only-of-type {\n",
       "        vertical-align: middle;\n",
       "    }\n",
       "\n",
       "    .dataframe tbody tr th {\n",
       "        vertical-align: top;\n",
       "    }\n",
       "\n",
       "    .dataframe thead th {\n",
       "        text-align: right;\n",
       "    }\n",
       "</style>\n",
       "<table border=\"1\" class=\"dataframe\">\n",
       "  <thead>\n",
       "    <tr style=\"text-align: right;\">\n",
       "      <th></th>\n",
       "      <th>cc_num</th>\n",
       "      <th>amt</th>\n",
       "      <th>zip</th>\n",
       "      <th>lat</th>\n",
       "      <th>long</th>\n",
       "      <th>city_pop</th>\n",
       "      <th>unix_time</th>\n",
       "      <th>merch_lat</th>\n",
       "      <th>merch_long</th>\n",
       "      <th>is_fraud</th>\n",
       "    </tr>\n",
       "  </thead>\n",
       "  <tbody>\n",
       "    <tr>\n",
       "      <th>count</th>\n",
       "      <td>2.008810e+05</td>\n",
       "      <td>200881.000000</td>\n",
       "      <td>200881.000000</td>\n",
       "      <td>200881.000000</td>\n",
       "      <td>200881.000000</td>\n",
       "      <td>2.008810e+05</td>\n",
       "      <td>2.008810e+05</td>\n",
       "      <td>200881.000000</td>\n",
       "      <td>200881.000000</td>\n",
       "      <td>200881.000000</td>\n",
       "    </tr>\n",
       "    <tr>\n",
       "      <th>mean</th>\n",
       "      <td>4.156141e+17</td>\n",
       "      <td>85.128618</td>\n",
       "      <td>48826.911331</td>\n",
       "      <td>38.545014</td>\n",
       "      <td>-90.242478</td>\n",
       "      <td>8.920038e+04</td>\n",
       "      <td>1.349255e+09</td>\n",
       "      <td>38.545281</td>\n",
       "      <td>-90.241478</td>\n",
       "      <td>0.037365</td>\n",
       "    </tr>\n",
       "    <tr>\n",
       "      <th>std</th>\n",
       "      <td>1.306632e+18</td>\n",
       "      <td>180.409147</td>\n",
       "      <td>26914.330746</td>\n",
       "      <td>5.090472</td>\n",
       "      <td>13.794411</td>\n",
       "      <td>3.019086e+05</td>\n",
       "      <td>1.287819e+07</td>\n",
       "      <td>5.124502</td>\n",
       "      <td>13.805559</td>\n",
       "      <td>0.189656</td>\n",
       "    </tr>\n",
       "    <tr>\n",
       "      <th>min</th>\n",
       "      <td>6.041621e+10</td>\n",
       "      <td>1.000000</td>\n",
       "      <td>1257.000000</td>\n",
       "      <td>20.027100</td>\n",
       "      <td>-165.672300</td>\n",
       "      <td>2.300000e+01</td>\n",
       "      <td>1.325376e+09</td>\n",
       "      <td>19.033288</td>\n",
       "      <td>-166.671242</td>\n",
       "      <td>0.000000</td>\n",
       "    </tr>\n",
       "    <tr>\n",
       "      <th>25%</th>\n",
       "      <td>1.800429e+14</td>\n",
       "      <td>9.840000</td>\n",
       "      <td>26237.000000</td>\n",
       "      <td>34.668900</td>\n",
       "      <td>-96.809400</td>\n",
       "      <td>7.430000e+02</td>\n",
       "      <td>1.338724e+09</td>\n",
       "      <td>34.751817</td>\n",
       "      <td>-96.926922</td>\n",
       "      <td>0.000000</td>\n",
       "    </tr>\n",
       "    <tr>\n",
       "      <th>50%</th>\n",
       "      <td>3.521417e+15</td>\n",
       "      <td>48.860000</td>\n",
       "      <td>48174.000000</td>\n",
       "      <td>39.354300</td>\n",
       "      <td>-87.476900</td>\n",
       "      <td>2.456000e+03</td>\n",
       "      <td>1.349299e+09</td>\n",
       "      <td>39.352830</td>\n",
       "      <td>-87.453214</td>\n",
       "      <td>0.000000</td>\n",
       "    </tr>\n",
       "    <tr>\n",
       "      <th>75%</th>\n",
       "      <td>4.642255e+15</td>\n",
       "      <td>86.650000</td>\n",
       "      <td>72042.000000</td>\n",
       "      <td>41.948800</td>\n",
       "      <td>-80.175200</td>\n",
       "      <td>2.032800e+04</td>\n",
       "      <td>1.359589e+09</td>\n",
       "      <td>41.964456</td>\n",
       "      <td>-80.249053</td>\n",
       "      <td>0.000000</td>\n",
       "    </tr>\n",
       "    <tr>\n",
       "      <th>max</th>\n",
       "      <td>4.992346e+18</td>\n",
       "      <td>14467.640000</td>\n",
       "      <td>99783.000000</td>\n",
       "      <td>66.693300</td>\n",
       "      <td>-67.950300</td>\n",
       "      <td>2.906700e+06</td>\n",
       "      <td>1.371817e+09</td>\n",
       "      <td>67.510267</td>\n",
       "      <td>-66.958751</td>\n",
       "      <td>1.000000</td>\n",
       "    </tr>\n",
       "  </tbody>\n",
       "</table>\n",
       "</div>"
      ],
      "text/plain": [
       "             cc_num            amt            zip            lat  \\\n",
       "count  2.008810e+05  200881.000000  200881.000000  200881.000000   \n",
       "mean   4.156141e+17      85.128618   48826.911331      38.545014   \n",
       "std    1.306632e+18     180.409147   26914.330746       5.090472   \n",
       "min    6.041621e+10       1.000000    1257.000000      20.027100   \n",
       "25%    1.800429e+14       9.840000   26237.000000      34.668900   \n",
       "50%    3.521417e+15      48.860000   48174.000000      39.354300   \n",
       "75%    4.642255e+15      86.650000   72042.000000      41.948800   \n",
       "max    4.992346e+18   14467.640000   99783.000000      66.693300   \n",
       "\n",
       "                long      city_pop     unix_time      merch_lat  \\\n",
       "count  200881.000000  2.008810e+05  2.008810e+05  200881.000000   \n",
       "mean      -90.242478  8.920038e+04  1.349255e+09      38.545281   \n",
       "std        13.794411  3.019086e+05  1.287819e+07       5.124502   \n",
       "min      -165.672300  2.300000e+01  1.325376e+09      19.033288   \n",
       "25%       -96.809400  7.430000e+02  1.338724e+09      34.751817   \n",
       "50%       -87.476900  2.456000e+03  1.349299e+09      39.352830   \n",
       "75%       -80.175200  2.032800e+04  1.359589e+09      41.964456   \n",
       "max       -67.950300  2.906700e+06  1.371817e+09      67.510267   \n",
       "\n",
       "          merch_long       is_fraud  \n",
       "count  200881.000000  200881.000000  \n",
       "mean      -90.241478       0.037365  \n",
       "std        13.805559       0.189656  \n",
       "min      -166.671242       0.000000  \n",
       "25%       -96.926922       0.000000  \n",
       "50%       -87.453214       0.000000  \n",
       "75%       -80.249053       0.000000  \n",
       "max       -66.958751       1.000000  "
      ]
     },
     "execution_count": 7,
     "metadata": {},
     "output_type": "execute_result"
    }
   ],
   "source": [
    "df.describe()"
   ]
  },
  {
   "cell_type": "code",
   "execution_count": 8,
   "id": "cc530d31",
   "metadata": {},
   "outputs": [
    {
     "data": {
      "image/png": "[encoded data removed]",
      "text/plain": [
       "<Figure size 800x600 with 2 Axes>"
      ]
     },
     "metadata": {},
     "output_type": "display_data"
    }
   ],
   "source": [
    "\n",
    "# Pilih kolom numerik + target\n",
    "num_cols = ['cc_num', 'amt', 'city_pop', 'unix_time']\n",
    "corr_matrix = df[num_cols + ['is_fraud']].corr(method='kendall')\n",
    "\n",
    "# Visualisasi semua korelasi dengan heatmap\n",
    "plt.figure(figsize=(8, 6))\n",
    "sns.heatmap(corr_matrix, annot=True, cmap='coolwarm', fmt=\".2f\", linewidths=0.5)\n",
    "plt.title('Heatmap Korelasi Fitur Numerik dengan Is Fraudulent')\n",
    "plt.show()\n"
   ]
  },
  {
   "cell_type": "markdown",
   "id": "35dbd933",
   "metadata": {},
   "source": [
    "### Insight dari Heatmap Korelasi\n",
    "\n",
    "Berdasarkan heatmap korelasi di atas, berikut adalah beberapa insight yang dapat diambil:\n",
    "\n",
    "1. **Korelasi antara `cc_num` dan `is_fraud`**:\n",
    "    - Nilai korelasi sebesar **0.000882**, yang menunjukkan bahwa hubungan antara nomor kartu kredit (`cc_num`) dan target (`is_fraud`) sangat lemah atau hampir tidak ada korelasi.\n",
    "\n",
    "2. **Korelasi antara `amt` (jumlah transaksi) dan `is_fraud`**:\n",
    "    - Nilai korelasi sebesar **0.179426**, yang menunjukkan adanya korelasi positif lemah. Artinya, semakin besar jumlah transaksi, kemungkinan terjadinya fraud sedikit meningkat.\n",
    "\n",
    "3. **Korelasi antara `city_pop` (populasi kota) dan `is_fraud`**:\n",
    "    - Nilai korelasi sebesar **0.002770**, yang menunjukkan hubungan yang sangat lemah antara populasi kota dan kejadian fraud.\n",
    "\n",
    "4. **Korelasi antara `unix_time` (waktu transaksi) dan `is_fraud`**:\n",
    "    - Nilai korelasi sebesar **-0.010176**, yang menunjukkan hubungan negatif yang sangat lemah. Artinya, waktu transaksi hampir tidak memengaruhi kejadian fraud.\n"
   ]
  },
  {
   "cell_type": "code",
   "execution_count": 9,
   "id": "7e4174af",
   "metadata": {},
   "outputs": [
    {
     "name": "stdout",
     "output_type": "stream",
     "text": [
      "                       Cramer's V\n",
      "trans_num                1.000000\n",
      "trans_date_trans_time    0.998788\n",
      "street                   0.350966\n",
      "dob                      0.347899\n",
      "city                     0.318049\n",
      "job                      0.208270\n",
      "last                     0.196292\n",
      "first                    0.181021\n",
      "merchant                 0.180191\n",
      "category                 0.173989\n",
      "state                    0.051480\n",
      "gender                   0.019010\n"
     ]
    }
   ],
   "source": [
    "from scipy.stats import chi2_contingency\n",
    "\n",
    "# Fungsi Cramer's V\n",
    "def cramers_v(x, y):\n",
    "    confusion_matrix = pd.crosstab(x, y)\n",
    "    chi2 = chi2_contingency(confusion_matrix)[0]\n",
    "    n = confusion_matrix.sum().sum()\n",
    "    r, k = confusion_matrix.shape\n",
    "    return np.sqrt(chi2 / (n * (min(r, k)-1)))\n",
    "\n",
    "# cat columns merupakan kolom yang bukan anggota num_cols\n",
    "cat_cols = df.select_dtypes(include=['object']).columns.tolist()\n",
    "\n",
    "# Hitung Cramer's V untuk setiap kolom kategorikal terhadap target\n",
    "cramers_result = {}\n",
    "for col in cat_cols:\n",
    "    cramers_result[col] = cramers_v(df[col], df['is_fraud'])\n",
    "\n",
    "# Ubah jadi DataFrame biar rapi\n",
    "cramers_df = pd.DataFrame.from_dict(cramers_result, orient='index', columns=['Cramer\\'s V']).sort_values(by=\"Cramer's V\", ascending=False)\n",
    "print(cramers_df)\n"
   ]
  },
  {
   "cell_type": "code",
   "execution_count": null,
   "id": "970a58eb",
   "metadata": {},
   "outputs": [
    {
     "data": {
      "text/html": [
       "<div>\n",
       "<style scoped>\n",
       "    .dataframe tbody tr th:only-of-type {\n",
       "        vertical-align: middle;\n",
       "    }\n",
       "\n",
       "    .dataframe tbody tr th {\n",
       "        vertical-align: top;\n",
       "    }\n",
       "\n",
       "    .dataframe thead th {\n",
       "        text-align: right;\n",
       "    }\n",
       "</style>\n",
       "<table border=\"1\" class=\"dataframe\">\n",
       "  <thead>\n",
       "    <tr style=\"text-align: right;\">\n",
       "      <th></th>\n",
       "      <th>Chi2</th>\n",
       "      <th>p-value</th>\n",
       "      <th>Degrees of Freedom</th>\n",
       "    </tr>\n",
       "  </thead>\n",
       "  <tbody>\n",
       "    <tr>\n",
       "      <th>merchant</th>\n",
       "      <td>6522.364043</td>\n",
       "      <td>0.000000e+00</td>\n",
       "      <td>692</td>\n",
       "    </tr>\n",
       "    <tr>\n",
       "      <th>category</th>\n",
       "      <td>6081.087234</td>\n",
       "      <td>0.000000e+00</td>\n",
       "      <td>13</td>\n",
       "    </tr>\n",
       "    <tr>\n",
       "      <th>first</th>\n",
       "      <td>6582.616277</td>\n",
       "      <td>0.000000e+00</td>\n",
       "      <td>351</td>\n",
       "    </tr>\n",
       "    <tr>\n",
       "      <th>last</th>\n",
       "      <td>7740.062728</td>\n",
       "      <td>0.000000e+00</td>\n",
       "      <td>480</td>\n",
       "    </tr>\n",
       "    <tr>\n",
       "      <th>city</th>\n",
       "      <td>20320.162307</td>\n",
       "      <td>0.000000e+00</td>\n",
       "      <td>893</td>\n",
       "    </tr>\n",
       "    <tr>\n",
       "      <th>street</th>\n",
       "      <td>24743.936358</td>\n",
       "      <td>0.000000e+00</td>\n",
       "      <td>982</td>\n",
       "    </tr>\n",
       "    <tr>\n",
       "      <th>dob</th>\n",
       "      <td>24313.443315</td>\n",
       "      <td>0.000000e+00</td>\n",
       "      <td>967</td>\n",
       "    </tr>\n",
       "    <tr>\n",
       "      <th>job</th>\n",
       "      <td>8713.502090</td>\n",
       "      <td>0.000000e+00</td>\n",
       "      <td>493</td>\n",
       "    </tr>\n",
       "    <tr>\n",
       "      <th>state</th>\n",
       "      <td>532.370674</td>\n",
       "      <td>7.075394e-82</td>\n",
       "      <td>50</td>\n",
       "    </tr>\n",
       "    <tr>\n",
       "      <th>gender</th>\n",
       "      <td>72.594779</td>\n",
       "      <td>1.591997e-17</td>\n",
       "      <td>1</td>\n",
       "    </tr>\n",
       "    <tr>\n",
       "      <th>trans_date_trans_time</th>\n",
       "      <td>200394.473069</td>\n",
       "      <td>4.696922e-01</td>\n",
       "      <td>200347</td>\n",
       "    </tr>\n",
       "    <tr>\n",
       "      <th>trans_num</th>\n",
       "      <td>200881.000000</td>\n",
       "      <td>4.989510e-01</td>\n",
       "      <td>200880</td>\n",
       "    </tr>\n",
       "  </tbody>\n",
       "</table>\n",
       "</div>"
      ],
      "text/plain": [
       "                                Chi2       p-value  Degrees of Freedom\n",
       "merchant                 6522.364043  0.000000e+00                 692\n",
       "category                 6081.087234  0.000000e+00                  13\n",
       "first                    6582.616277  0.000000e+00                 351\n",
       "last                     7740.062728  0.000000e+00                 480\n",
       "city                    20320.162307  0.000000e+00                 893\n",
       "street                  24743.936358  0.000000e+00                 982\n",
       "dob                     24313.443315  0.000000e+00                 967\n",
       "job                      8713.502090  0.000000e+00                 493\n",
       "state                     532.370674  7.075394e-82                  50\n",
       "gender                     72.594779  1.591997e-17                   1\n",
       "trans_date_trans_time  200394.473069  4.696922e-01              200347\n",
       "trans_num              200881.000000  4.989510e-01              200880"
      ]
     },
     "execution_count": 11,
     "metadata": {},
     "output_type": "execute_result"
    }
   ],
   "source": [
    "# Uji hipotesis chi-square untuk semua kolom kategori terhadap is_fraud\n",
    "chi2_results = {}\n",
    "for col in cat_cols:\n",
    "    contingency_table = pd.crosstab(df[col], df['is_fraud'])\n",
    "    chi2, p, dof, expected = chi2_contingency(contingency_table)\n",
    "    chi2_results[col] = {'Chi2': chi2, 'p-value': p, 'Degrees of Freedom': dof}\n",
    "\n",
    "# Ubah hasil menjadi DataFrame untuk visualisasi\n",
    "chi2_df = pd.DataFrame.from_dict(chi2_results, orient='index')\n",
    "chi2_df.sort_values(by='p-value', inplace=True)\n",
    "chi2_df"
   ]
  },
  {
   "cell_type": "code",
   "execution_count": 12,
   "id": "880a49f1",
   "metadata": {},
   "outputs": [
    {
     "data": {
      "text/html": [
       "<div>\n",
       "<style scoped>\n",
       "    .dataframe tbody tr th:only-of-type {\n",
       "        vertical-align: middle;\n",
       "    }\n",
       "\n",
       "    .dataframe tbody tr th {\n",
       "        vertical-align: top;\n",
       "    }\n",
       "\n",
       "    .dataframe thead th {\n",
       "        text-align: right;\n",
       "    }\n",
       "</style>\n",
       "<table border=\"1\" class=\"dataframe\">\n",
       "  <thead>\n",
       "    <tr style=\"text-align: right;\">\n",
       "      <th></th>\n",
       "      <th>Chi2</th>\n",
       "      <th>p-value</th>\n",
       "      <th>Degrees of Freedom</th>\n",
       "      <th>Reject Null Hypothesis</th>\n",
       "    </tr>\n",
       "  </thead>\n",
       "  <tbody>\n",
       "    <tr>\n",
       "      <th>merchant</th>\n",
       "      <td>6522.364043</td>\n",
       "      <td>0.000000e+00</td>\n",
       "      <td>692</td>\n",
       "      <td>True</td>\n",
       "    </tr>\n",
       "    <tr>\n",
       "      <th>category</th>\n",
       "      <td>6081.087234</td>\n",
       "      <td>0.000000e+00</td>\n",
       "      <td>13</td>\n",
       "      <td>True</td>\n",
       "    </tr>\n",
       "    <tr>\n",
       "      <th>first</th>\n",
       "      <td>6582.616277</td>\n",
       "      <td>0.000000e+00</td>\n",
       "      <td>351</td>\n",
       "      <td>True</td>\n",
       "    </tr>\n",
       "    <tr>\n",
       "      <th>last</th>\n",
       "      <td>7740.062728</td>\n",
       "      <td>0.000000e+00</td>\n",
       "      <td>480</td>\n",
       "      <td>True</td>\n",
       "    </tr>\n",
       "    <tr>\n",
       "      <th>city</th>\n",
       "      <td>20320.162307</td>\n",
       "      <td>0.000000e+00</td>\n",
       "      <td>893</td>\n",
       "      <td>True</td>\n",
       "    </tr>\n",
       "    <tr>\n",
       "      <th>street</th>\n",
       "      <td>24743.936358</td>\n",
       "      <td>0.000000e+00</td>\n",
       "      <td>982</td>\n",
       "      <td>True</td>\n",
       "    </tr>\n",
       "    <tr>\n",
       "      <th>dob</th>\n",
       "      <td>24313.443315</td>\n",
       "      <td>0.000000e+00</td>\n",
       "      <td>967</td>\n",
       "      <td>True</td>\n",
       "    </tr>\n",
       "    <tr>\n",
       "      <th>job</th>\n",
       "      <td>8713.502090</td>\n",
       "      <td>0.000000e+00</td>\n",
       "      <td>493</td>\n",
       "      <td>True</td>\n",
       "    </tr>\n",
       "    <tr>\n",
       "      <th>state</th>\n",
       "      <td>532.370674</td>\n",
       "      <td>7.075394e-82</td>\n",
       "      <td>50</td>\n",
       "      <td>True</td>\n",
       "    </tr>\n",
       "    <tr>\n",
       "      <th>gender</th>\n",
       "      <td>72.594779</td>\n",
       "      <td>1.591997e-17</td>\n",
       "      <td>1</td>\n",
       "      <td>True</td>\n",
       "    </tr>\n",
       "    <tr>\n",
       "      <th>trans_date_trans_time</th>\n",
       "      <td>200394.473069</td>\n",
       "      <td>4.696922e-01</td>\n",
       "      <td>200347</td>\n",
       "      <td>False</td>\n",
       "    </tr>\n",
       "    <tr>\n",
       "      <th>trans_num</th>\n",
       "      <td>200881.000000</td>\n",
       "      <td>4.989510e-01</td>\n",
       "      <td>200880</td>\n",
       "      <td>False</td>\n",
       "    </tr>\n",
       "  </tbody>\n",
       "</table>\n",
       "</div>"
      ],
      "text/plain": [
       "                                Chi2       p-value  Degrees of Freedom  \\\n",
       "merchant                 6522.364043  0.000000e+00                 692   \n",
       "category                 6081.087234  0.000000e+00                  13   \n",
       "first                    6582.616277  0.000000e+00                 351   \n",
       "last                     7740.062728  0.000000e+00                 480   \n",
       "city                    20320.162307  0.000000e+00                 893   \n",
       "street                  24743.936358  0.000000e+00                 982   \n",
       "dob                     24313.443315  0.000000e+00                 967   \n",
       "job                      8713.502090  0.000000e+00                 493   \n",
       "state                     532.370674  7.075394e-82                  50   \n",
       "gender                     72.594779  1.591997e-17                   1   \n",
       "trans_date_trans_time  200394.473069  4.696922e-01              200347   \n",
       "trans_num              200881.000000  4.989510e-01              200880   \n",
       "\n",
       "                       Reject Null Hypothesis  \n",
       "merchant                                 True  \n",
       "category                                 True  \n",
       "first                                    True  \n",
       "last                                     True  \n",
       "city                                     True  \n",
       "street                                   True  \n",
       "dob                                      True  \n",
       "job                                      True  \n",
       "state                                    True  \n",
       "gender                                   True  \n",
       "trans_date_trans_time                   False  \n",
       "trans_num                               False  "
      ]
     },
     "execution_count": 12,
     "metadata": {},
     "output_type": "execute_result"
    }
   ],
   "source": [
    "# Tingkat signifikansi\n",
    "alpha = 0.05\n",
    "\n",
    "# Evaluasi apakah hipotesis null ditolak atau tidak\n",
    "chi2_df['Reject Null Hypothesis'] = chi2_df['p-value'] < alpha\n",
    "chi2_df"
   ]
  },
  {
   "cell_type": "code",
   "execution_count": 11,
   "id": "9c6212f5",
   "metadata": {},
   "outputs": [
    {
     "name": "stderr",
     "output_type": "stream",
     "text": [
      "C:\\Users\\Dionisius\\AppData\\Local\\Temp\\ipykernel_23532\\3100984472.py:2: FutureWarning: \n",
      "\n",
      "Passing `palette` without assigning `hue` is deprecated and will be removed in v0.14.0. Assign the `y` variable to `hue` and set `legend=False` for the same effect.\n",
      "\n",
      "  sns.barplot(x=cramers_df['Cramer\\'s V'], y=cramers_df.index, palette='coolwarm')\n"
     ]
    },
    {
     "data": {
      "image/png": "[encoded data removed]",
      "text/plain": [
       "<Figure size 600x400 with 1 Axes>"
      ]
     },
     "metadata": {},
     "output_type": "display_data"
    }
   ],
   "source": [
    "plt.figure(figsize=(6, 4))\n",
    "sns.barplot(x=cramers_df['Cramer\\'s V'], y=cramers_df.index, palette='coolwarm')\n",
    "plt.title(\"Cramer's V antara Fitur Kategorikal dan Is Fraudulent\")\n",
    "plt.xlabel(\"Cramer's V\")\n",
    "plt.ylabel(\"Fitur Kategorikal\")\n",
    "plt.xlim(0, 1)\n",
    "plt.show()\n"
   ]
  },
  {
   "cell_type": "code",
   "execution_count": 14,
   "id": "4996282b",
   "metadata": {},
   "outputs": [
    {
     "data": {
      "text/plain": [
       "array(['fraud_Kutch, Hermiston and Farrell', 'fraud_Rutherford-Mertz',\n",
       "       'fraud_Bruen-Yost', 'fraud_Torphy-Goyette',\n",
       "       'fraud_Bahringer, Schoen and Corkery', 'fraud_Howe Ltd',\n",
       "       'fraud_Koepp-Witting', 'fraud_Mosciski, Ziemann and Farrell',\n",
       "       'fraud_Huel-Langworth', 'fraud_Macejkovic-Lesch',\n",
       "       'fraud_Reichert, Huels and Hoppe', 'fraud_Wolf Inc',\n",
       "       'fraud_Jaskolski-Dibbert', 'fraud_Schmeler Inc',\n",
       "       'fraud_Weber and Sons', 'fraud_Rau and Sons',\n",
       "       'fraud_Swaniawski, Lowe and Robel', \"fraud_Pacocha-O'Reilly\",\n",
       "       'fraud_Boyer PLC', 'fraud_Metz-Boehm', 'fraud_Koepp-Parker',\n",
       "       'fraud_Quitzon, Green and Bashirian', 'fraud_Rodriguez Group',\n",
       "       'fraud_Buckridge PLC', 'fraud_Kilback LLC', 'fraud_Price Inc',\n",
       "       'fraud_Johnston, Nikolaus and Maggio', 'fraud_McCullough LLC',\n",
       "       'fraud_Schmitt Ltd', 'fraud_Lockman, West and Runte',\n",
       "       \"fraud_Deckow-O'Conner\", 'fraud_Hills-Olson',\n",
       "       'fraud_Rohan, White and Aufderhar',\n",
       "       'fraud_Cormier, Stracke and Thiel',\n",
       "       'fraud_Christiansen-Gusikowski', 'fraud_Kutch LLC',\n",
       "       'fraud_Dooley-Thompson', 'fraud_McDermott-Rice',\n",
       "       'fraud_Sporer Inc', 'fraud_Ledner-Pfannerstill',\n",
       "       'fraud_Harber Inc', 'fraud_Heller, Gutmann and Zieme',\n",
       "       'fraud_Greenfelder, Bartoletti and Davis',\n",
       "       'fraud_Zieme, Bode and Dooley', 'fraud_McCullough Group',\n",
       "       \"fraud_O'Keefe-Hudson\", 'fraud_McGlynn-Jaskolski',\n",
       "       'fraud_Parisian and Sons', 'fraud_Lind, Huel and McClure',\n",
       "       'fraud_Heller-Langosh', 'fraud_Monahan, Bogisich and Ledner',\n",
       "       'fraud_Ferry, Lynch and Kautzer', 'fraud_Ortiz Group',\n",
       "       'fraud_Corwin-Collins', 'fraud_Huels-Hahn',\n",
       "       'fraud_Erdman-Kertzmann', 'fraud_Huels-Nolan',\n",
       "       'fraud_Schumm, Bauch and Ondricka', 'fraud_Cole PLC',\n",
       "       'fraud_Greenholt, Jacobi and Gleason', \"fraud_Friesen-D'Amore\",\n",
       "       'fraud_Kuhn LLC', 'fraud_Wintheiser, Dietrich and Schimmel',\n",
       "       'fraud_Raynor, Feest and Miller', 'fraud_Jast and Sons',\n",
       "       'fraud_Kiehn-Emmerich', 'fraud_Hickle Group', 'fraud_Hudson-Ratke',\n",
       "       'fraud_Kerluke Inc', 'fraud_Turcotte-Halvorson',\n",
       "       'fraud_Mayert Group', 'fraud_Schoen, Kuphal and Nitzsche',\n",
       "       'fraud_Dickinson-Rempel', 'fraud_Murray-Smitham',\n",
       "       'fraud_Flatley-Durgan', 'fraud_Labadie, Treutel and Bode',\n",
       "       'fraud_Johnson, Runolfsdottir and Mayer',\n",
       "       'fraud_Reilly, Heaney and Cole',\n",
       "       'fraud_Watsica, Haag and Considine', 'fraud_Kozey-Boehm',\n",
       "       'fraud_Reynolds-Schinner', 'fraud_Rippin, Kub and Mann',\n",
       "       'fraud_Luettgen PLC', 'fraud_Wiza, Schaden and Stark',\n",
       "       'fraud_Bauch-Raynor', 'fraud_Klocko LLC',\n",
       "       'fraud_Huel, Hammes and Witting', 'fraud_Yost, Block and Koepp',\n",
       "       'fraud_Skiles-Ankunding', 'fraud_Auer-West',\n",
       "       'fraud_Adams, Kovacek and Kuhlman', 'fraud_Goodwin-Nitzsche',\n",
       "       'fraud_Tillman, Dickinson and Labadie', 'fraud_Dickinson Ltd',\n",
       "       'fraud_Dicki Ltd', 'fraud_Bins-Rice', 'fraud_Cummings Group',\n",
       "       'fraud_Prohaska-Murray', 'fraud_Douglas-White',\n",
       "       'fraud_Brekke and Sons', 'fraud_Kuvalis Ltd',\n",
       "       'fraud_Robel, Cummerata and Prosacco', 'fraud_Kulas Group',\n",
       "       'fraud_Waters-Cruickshank', 'fraud_Hammes-Beatty',\n",
       "       'fraud_Bernier and Sons', 'fraud_Wilkinson PLC',\n",
       "       'fraud_Kling-Ernser', 'fraud_Bednar Inc',\n",
       "       'fraud_Prosacco, Kreiger and Kovacek', 'fraud_Thompson-Gleason',\n",
       "       'fraud_Kub PLC', 'fraud_Hauck, Dietrich and Funk',\n",
       "       'fraud_Fritsch and Sons', 'fraud_Bahringer, Bergnaum and Quitzon',\n",
       "       'fraud_Becker, Harris and Harvey', 'fraud_Padberg-Rogahn',\n",
       "       'fraud_Kub-Heaney', 'fraud_Terry Ltd', 'fraud_Goyette-Gerhold',\n",
       "       'fraud_Yost-Rogahn', 'fraud_Crist, Jakubowski and Littel',\n",
       "       \"fraud_Hamill-D'Amore\", 'fraud_Botsford and Sons',\n",
       "       'fraud_Gibson-Deckow', 'fraud_McCullough, Hudson and Schuster',\n",
       "       'fraud_Cruickshank-Mills', 'fraud_McKenzie-Huels',\n",
       "       'fraud_Effertz, Welch and Schowalter',\n",
       "       'fraud_Klocko, Runolfsdottir and Breitenberg',\n",
       "       'fraud_Graham, Hegmann and Hammes', 'fraud_Stark-Koss',\n",
       "       'fraud_Kris-Padberg', 'fraud_Erdman-Ebert', 'fraud_Little Ltd',\n",
       "       'fraud_Bode-Rempel', 'fraud_Medhurst Inc', 'fraud_Beer-Jast',\n",
       "       'fraud_Ziemann-Waters', 'fraud_Hahn, Bahringer and McLaughlin',\n",
       "       'fraud_Hermiston, Russel and Price',\n",
       "       'fraud_Weimann, Kuhic and Beahan', 'fraud_Grimes LLC',\n",
       "       'fraud_Douglas, DuBuque and McKenzie', 'fraud_Bartoletti and Sons',\n",
       "       'fraud_Kutch-Wilderman', 'fraud_Gleason-Macejkovic',\n",
       "       'fraud_Weimann-Lockman', 'fraud_Connelly-Carter',\n",
       "       'fraud_Lowe, Dietrich and Erdman', 'fraud_Jast Ltd',\n",
       "       'fraud_Skiles LLC', 'fraud_Abbott-Steuber', 'fraud_Kuhn Group',\n",
       "       'fraud_Homenick LLC', 'fraud_Jewess LLC', 'fraud_White and Sons',\n",
       "       'fraud_Berge, Kautzer and Harris', 'fraud_Berge-Hills',\n",
       "       'fraud_Zboncak LLC', 'fraud_Schulist Ltd', 'fraud_Osinski Inc',\n",
       "       'fraud_Daugherty, Pouros and Beahan', 'fraud_Satterfield-Lowe',\n",
       "       'fraud_Torp, Muller and Borer',\n",
       "       'fraud_Moore, Williamson and Emmerich', 'fraud_Marvin-Lind',\n",
       "       'fraud_Runolfsdottir, Mueller and Hand', 'fraud_Stamm-Rodriguez',\n",
       "       'fraud_Renner Ltd', 'fraud_Rolfson-Kunde',\n",
       "       'fraud_Roberts, Daniel and Macejkovic',\n",
       "       'fraud_Nicolas, Hills and McGlynn', 'fraud_Hintz, Bauch and Smith',\n",
       "       'fraud_Ratke and Sons', 'fraud_Schroeder, Wolff and Hermiston',\n",
       "       'fraud_Koss, Hansen and Lueilwitz', 'fraud_Waelchi-Wolf',\n",
       "       'fraud_Windler, Goodwin and Kovacek',\n",
       "       'fraud_Eichmann, Hayes and Treutel',\n",
       "       'fraud_Brown, Homenick and Lesch',\n",
       "       'fraud_Cronin, Kshlerin and Weber',\n",
       "       'fraud_Gutmann, McLaughlin and Wiza',\n",
       "       'fraud_Schroeder, Hauck and Treutel', 'fraud_Harris Group',\n",
       "       'fraud_Watsica LLC', 'fraud_Jacobi Inc',\n",
       "       'fraud_Nienow, Ankunding and Collier',\n",
       "       'fraud_Cole, Hills and Jewess', 'fraud_Hagenes, Kohler and Hoppe',\n",
       "       'fraud_Reichel, Bradtke and Blanda',\n",
       "       'fraud_Denesik, Powlowski and Pouros', 'fraud_Kessler Inc',\n",
       "       'fraud_Schroeder Group', 'fraud_Gleason and Sons',\n",
       "       'fraud_Kutch-Ferry', 'fraud_Greenholt Ltd',\n",
       "       'fraud_Cummerata-Hilpert', 'fraud_Adams-Barrows',\n",
       "       'fraud_Schneider, Hayes and Nikolaus', 'fraud_Windler LLC',\n",
       "       'fraud_Schmidt-Larkin', 'fraud_Pacocha-Weissnat',\n",
       "       'fraud_Roberts, Ryan and Smith', 'fraud_Shanahan-Lehner',\n",
       "       'fraud_Pouros, Walker and Spencer', 'fraud_Halvorson Group',\n",
       "       'fraud_Nienow PLC', 'fraud_Dare, Casper and Bartoletti',\n",
       "       'fraud_Kozey-Kuhlman', 'fraud_Veum-Koelpin', 'fraud_Zulauf LLC',\n",
       "       'fraud_Bogisich-Weimann', 'fraud_Auer LLC',\n",
       "       'fraud_Streich, Dietrich and Barton', 'fraud_Donnelly LLC',\n",
       "       'fraud_Schuppe, Nolan and Hoeger', 'fraud_Hirthe-Beier',\n",
       "       'fraud_Kuhic LLC', 'fraud_Kilback and Sons', 'fraud_Bode-Schuster',\n",
       "       'fraud_Kutch, Steuber and Gerhold', 'fraud_Bahringer Group',\n",
       "       'fraud_Dare, Fritsch and Zboncak', 'fraud_Volkman-Predovic',\n",
       "       'fraud_Jakubowski Inc', 'fraud_Will Ltd',\n",
       "       \"fraud_Lesch, D'Amore and Brown\", 'fraud_Block Group',\n",
       "       'fraud_Beier and Sons', 'fraud_Erdman-Durgan',\n",
       "       'fraud_Botsford Ltd', 'fraud_Witting, Beer and Ernser',\n",
       "       'fraud_Lubowitz-Walter', 'fraud_Jacobi and Sons',\n",
       "       'fraud_Turcotte, Batz and Buckridge', 'fraud_Champlin-Casper',\n",
       "       'fraud_Brown Inc', 'fraud_Johns Inc',\n",
       "       'fraud_Okuneva, Schneider and Rau', 'fraud_Pfeffer and Sons',\n",
       "       'fraud_Howe PLC', 'fraud_Kihn-Schuster', 'fraud_Streich Ltd',\n",
       "       'fraud_Fadel-Hilpert', 'fraud_Klein Group', 'fraud_Lemke-Gutmann',\n",
       "       'fraud_Turcotte, McKenzie and Koss',\n",
       "       'fraud_Baumbach, Hodkiewicz and Walsh', 'fraud_Spencer PLC',\n",
       "       'fraud_Romaguera, Wehner and Tromp', 'fraud_Pagac LLC',\n",
       "       'fraud_Altenwerth-Kilback', 'fraud_Gulgowski LLC',\n",
       "       'fraud_Lang, Towne and Schuppe', 'fraud_Kuhic Inc',\n",
       "       'fraud_Cummings LLC', 'fraud_Denesik and Sons',\n",
       "       'fraud_Kling-Grant', 'fraud_Kling Inc',\n",
       "       'fraud_Jenkins, Hauck and Friesen',\n",
       "       'fraud_Larkin, Stracke and Greenfelder',\n",
       "       'fraud_Bernier, Volkman and Hoeger', 'fraud_Cummerata-Jones',\n",
       "       'fraud_Parisian, Schiller and Altenwerth',\n",
       "       'fraud_Moen, Reinger and Murphy', 'fraud_Kuphal-Predovic',\n",
       "       'fraud_Streich, Hansen and Veum', 'fraud_Thiel PLC',\n",
       "       'fraud_Hackett-Lueilwitz',\n",
       "       'fraud_Christiansen, Goyette and Schamberger',\n",
       "       'fraud_Goldner, Kovacek and Abbott',\n",
       "       'fraud_Turner, Ruecker and Parisian', 'fraud_Berge LLC',\n",
       "       'fraud_Kutch-Hegmann', 'fraud_Durgan-Auer',\n",
       "       'fraud_Dibbert and Sons', 'fraud_Doyle Ltd', 'fraud_Hudson-Grady',\n",
       "       'fraud_Olson, Becker and Koch', 'fraud_Boyer-Reichert',\n",
       "       'fraud_Cartwright-Harris', 'fraud_Herman, Treutel and Dickens',\n",
       "       'fraud_Kunze Inc', 'fraud_Kris-Weimann', 'fraud_Ruecker Group',\n",
       "       'fraud_Donnelly PLC', 'fraud_Beier-Hyatt', 'fraud_Predovic Inc',\n",
       "       'fraud_Strosin-Cruickshank', 'fraud_Marks Inc',\n",
       "       'fraud_Heidenreich PLC', 'fraud_Padberg-Welch',\n",
       "       'fraud_Osinski, Ledner and Leuschke', 'fraud_Torp-Lemke',\n",
       "       'fraud_Fisher Inc', 'fraud_Nitzsche, Kessler and Wolff',\n",
       "       \"fraud_O'Hara-Wilderman\", 'fraud_Towne, Greenholt and Koepp',\n",
       "       'fraud_Kihn-Fritsch', \"fraud_O'Connell, Botsford and Hand\",\n",
       "       'fraud_Volkman PLC', 'fraud_Romaguera, Cruickshank and Greenholt',\n",
       "       'fraud_Bradtke, Torp and Bahringer',\n",
       "       'fraud_Hagenes, Hermann and Stroman', 'fraud_Medhurst PLC',\n",
       "       'fraud_Dibbert-Green', 'fraud_Emmerich-Rau',\n",
       "       'fraud_Reichert-Weissnat', 'fraud_Swift PLC', 'fraud_Cormier LLC',\n",
       "       'fraud_Kuphal-Toy', 'fraud_Hyatt, Russel and Gleichner',\n",
       "       'fraud_Nolan-Williamson', 'fraud_Friesen Inc',\n",
       "       'fraud_Roob-Okuneva', 'fraud_Schiller, Blanda and Johnson',\n",
       "       'fraud_Wuckert-Goldner', 'fraud_Stark-Batz', 'fraud_Conroy-Emard',\n",
       "       'fraud_Baumbach, Strosin and Nicolas',\n",
       "       'fraud_Schumm, McLaughlin and Carter', 'fraud_Friesen-Ortiz',\n",
       "       'fraud_Dare-Gibson', 'fraud_Leffler-Goldner',\n",
       "       'fraud_Schoen-Quigley', 'fraud_Welch, Rath and Koepp',\n",
       "       'fraud_Kovacek Ltd', 'fraud_McDermott, Osinski and Morar',\n",
       "       'fraud_Ledner, Hartmann and Feest',\n",
       "       'fraud_Durgan, Gislason and Spencer',\n",
       "       'fraud_Langosh, Wintheiser and Hyatt',\n",
       "       'fraud_Schmeler, Bashirian and Price',\n",
       "       'fraud_Zemlak, Tillman and Cremin', 'fraud_Hyatt-Blick',\n",
       "       'fraud_Gislason Group', 'fraud_Sawayn PLC',\n",
       "       'fraud_Hermann and Sons', \"fraud_O'Reilly, Mohr and Purdy\",\n",
       "       'fraud_Armstrong, Walter and Gottlieb',\n",
       "       'fraud_Morissette-Schaefer', 'fraud_Corwin-Romaguera',\n",
       "       'fraud_Abshire PLC', 'fraud_Lakin, Ferry and Beatty',\n",
       "       'fraud_Cassin-Harvey', 'fraud_Rowe, Batz and Goodwin',\n",
       "       'fraud_Kuhic, Bins and Pfeffer', 'fraud_Ruecker, Beer and Collier',\n",
       "       'fraud_Stiedemann Ltd', 'fraud_Conroy-Cruickshank',\n",
       "       'fraud_Block-Parisian', 'fraud_Haley Group',\n",
       "       'fraud_Langworth, Boehm and Gulgowski', 'fraud_Auer-Mosciski',\n",
       "       'fraud_Harris, Gusikowski and Heaney',\n",
       "       'fraud_Roob, Conn and Tremblay', 'fraud_Terry, Johns and Bins',\n",
       "       'fraud_Schmidt and Sons', 'fraud_Mosciski, Gislason and Mertz',\n",
       "       'fraud_Kiehn Inc', 'fraud_Bailey-Morar', 'fraud_Vandervort-Funk',\n",
       "       'fraud_Kerluke, Kertzmann and Wiza', 'fraud_Huel Ltd',\n",
       "       'fraud_Little, Gutmann and Lynch', 'fraud_Ankunding LLC',\n",
       "       'fraud_Bradtke PLC', 'fraud_Heller-Abshire',\n",
       "       'fraud_McDermott-Weimann', 'fraud_Schaefer, McGlynn and Bosco',\n",
       "       'fraud_Bins, Balistreri and Beatty', 'fraud_Jast-McDermott',\n",
       "       'fraud_Frami Group', 'fraud_Koelpin and Sons', 'fraud_Lockman Ltd',\n",
       "       'fraud_Kihn Inc', 'fraud_Quitzon-Goyette',\n",
       "       'fraud_Larson, Quitzon and Spencer',\n",
       "       'fraud_Nienow, Barrows and Romaguera', 'fraud_Feil-Morar',\n",
       "       'fraud_Cartwright PLC', 'fraud_Kihn, Abernathy and Douglas',\n",
       "       'fraud_Bechtelar-Rippin', 'fraud_Hills-Boyer', 'fraud_Pollich LLC',\n",
       "       'fraud_Walter, Hettinger and Kessler', 'fraud_Ankunding-Carroll',\n",
       "       'fraud_Kertzmann LLC', 'fraud_Thiel Ltd', 'fraud_Schaefer Ltd',\n",
       "       'fraud_Morissette PLC', 'fraud_Roberts-Beahan',\n",
       "       'fraud_Schuppe-Schuppe', 'fraud_Bahringer-Streich',\n",
       "       'fraud_Fadel Inc', 'fraud_Kling, Howe and Schneider',\n",
       "       'fraud_Reichert, Shanahan and Hayes', 'fraud_Gerhold LLC',\n",
       "       'fraud_Weber, Thiel and Hammes', 'fraud_Reilly and Sons',\n",
       "       'fraud_Champlin, Rolfson and Connelly', 'fraud_Pouros-Conroy',\n",
       "       'fraud_Heaney-Marquardt', 'fraud_Jakubowski Group',\n",
       "       'fraud_Gottlieb Group', 'fraud_Little-Gleichner',\n",
       "       'fraud_Effertz LLC', 'fraud_Fadel, Mertz and Rippin',\n",
       "       'fraud_Goldner-Lemke', 'fraud_Botsford PLC', 'fraud_Deckow-Dare',\n",
       "       'fraud_Kihn, Brakus and Goyette',\n",
       "       'fraud_Hills, Hegmann and Schaefer', 'fraud_Fahey Inc',\n",
       "       'fraud_Zboncak Ltd', 'fraud_Heller PLC', 'fraud_Mohr-Bayer',\n",
       "       'fraud_Monahan-Morar', 'fraud_Sporer-Keebler',\n",
       "       'fraud_Rippin-VonRueden', 'fraud_Ebert-Daugherty',\n",
       "       'fraud_Runte-Mohr', 'fraud_Feil, Hilpert and Koss',\n",
       "       'fraud_Mosciski Group', 'fraud_Keeling-Crist',\n",
       "       'fraud_Schoen, Nienow and Bauch', 'fraud_Connelly PLC',\n",
       "       'fraud_Reilly LLC', 'fraud_Lynch Ltd', 'fraud_Kemmer-Reinger',\n",
       "       'fraud_Barton Inc', 'fraud_Stokes, Christiansen and Sipes',\n",
       "       'fraud_Williamson LLC', 'fraud_Bernhard, Grant and Langworth',\n",
       "       'fraud_Smith-Stokes', 'fraud_Funk Group', 'fraud_Maggio-Fahey',\n",
       "       'fraud_Towne, Walker and Borer',\n",
       "       'fraud_Stanton, Jakubowski and Baumbach', 'fraud_Rempel Inc',\n",
       "       'fraud_Swaniawski, Bahringer and Ledner', 'fraud_Bernhard-Lesch',\n",
       "       'fraud_Welch Inc', 'fraud_Connelly, Reichert and Fritsch',\n",
       "       'fraud_McGlynn-Heathcote', 'fraud_Torp-Labadie',\n",
       "       'fraud_Terry-Huel', 'fraud_Hermann-Gaylord', 'fraud_Miller-Hauck',\n",
       "       'fraud_Gutmann Ltd', 'fraud_Schaefer, Maggio and Daugherty',\n",
       "       'fraud_Kilback Group', 'fraud_Hills-Witting',\n",
       "       'fraud_Crona and Sons', 'fraud_Breitenberg LLC',\n",
       "       'fraud_Bins-Howell', 'fraud_Breitenberg-Hermiston',\n",
       "       'fraud_Collier LLC', 'fraud_Kirlin and Sons', 'fraud_Bednar PLC',\n",
       "       'fraud_Erdman-Schaden', 'fraud_Corwin-Gorczany',\n",
       "       'fraud_Stoltenberg-Beatty',\n",
       "       'fraud_Wuckert, Wintheiser and Friesen',\n",
       "       'fraud_Metz, Russel and Metz', \"fraud_O'Connell-Ullrich\",\n",
       "       'fraud_Haley, Jewess and Bechtelar', 'fraud_Tromp Group',\n",
       "       'fraud_Lesch Ltd', 'fraud_Friesen Ltd', 'fraud_Romaguera Ltd',\n",
       "       'fraud_Rau-Robel', 'fraud_Mueller, Gerhold and Mueller',\n",
       "       'fraud_Lind-Buckridge', 'fraud_Fisher-Schowalter',\n",
       "       'fraud_Goyette Inc', 'fraud_Eichmann-Kilback',\n",
       "       'fraud_Kessler Group', 'fraud_Beier LLC',\n",
       "       'fraud_Lubowitz, Terry and Stracke',\n",
       "       'fraud_Turner, Ziemann and Lehner', 'fraud_Padberg-Sauer',\n",
       "       'fraud_Swaniawski, Nitzsche and Welch', 'fraud_Wisozk and Sons',\n",
       "       'fraud_Schumm PLC', 'fraud_Bauch-Blanda', 'fraud_Stracke-Lemke',\n",
       "       'fraud_Schuppe LLC', 'fraud_Collier Inc', 'fraud_Shields Inc',\n",
       "       'fraud_Smitham-Schiller', 'fraud_Hamill-Daugherty',\n",
       "       'fraud_Tromp, Kerluke and Glover',\n",
       "       'fraud_Raynor, Reinger and Hagenes', 'fraud_Kutch Group',\n",
       "       \"fraud_Schamberger-O'Keefe\", 'fraud_Harris Inc',\n",
       "       'fraud_Boehm, Predovic and Reinger', 'fraud_Smitham-Boehm',\n",
       "       'fraud_Parker, Nolan and Trantow', 'fraud_Schmitt Inc',\n",
       "       'fraud_Bernhard Inc', 'fraud_Kerluke-Abshire', 'fraud_Volkman Ltd',\n",
       "       'fraud_Kassulke PLC', 'fraud_Kovacek, Dibbert and Ondricka',\n",
       "       'fraud_Mraz-Herzog', 'fraud_Lynch-Wisozk',\n",
       "       'fraud_Daugherty-Thompson', 'fraud_Barton LLC',\n",
       "       'fraud_Streich, Rolfson and Wilderman',\n",
       "       'fraud_Yost, Schamberger and Windler',\n",
       "       'fraud_Rodriguez, Yost and Jenkins',\n",
       "       'fraud_McLaughlin, Armstrong and Koepp', 'fraud_Baumbach Ltd',\n",
       "       'fraud_Leannon-Ward', 'fraud_Powlowski-Weimann',\n",
       "       'fraud_Bins-Tillman', 'fraud_Block-Hauck',\n",
       "       'fraud_Kerluke, Considine and Macejkovic', 'fraud_Mohr Inc',\n",
       "       'fraud_Gottlieb-Hansen', 'fraud_Treutel-King',\n",
       "       'fraud_Heathcote, Yost and Kertzmann',\n",
       "       'fraud_Koss, McLaughlin and Mayer', 'fraud_Nader-Maggio',\n",
       "       'fraud_Carroll PLC', 'fraud_Larson-Moen', 'fraud_Labadie LLC',\n",
       "       'fraud_Dare-Marvin', 'fraud_Moore, Dibbert and Koepp',\n",
       "       'fraud_Gottlieb, Considine and Schultz',\n",
       "       'fraud_Mante, Luettgen and Hackett',\n",
       "       'fraud_Reinger, Weissnat and Strosin', 'fraud_Pouros-Haag',\n",
       "       'fraud_Barrows PLC', 'fraud_Emard Inc', 'fraud_Wiza LLC',\n",
       "       'fraud_Spencer-Runolfsson', 'fraud_Bogisich Inc',\n",
       "       'fraud_Bartoletti-Wunsch', 'fraud_Cremin, Hamill and Reichel',\n",
       "       'fraud_Gerlach Inc', 'fraud_Lebsack and Sons',\n",
       "       'fraud_Bashirian Group', 'fraud_Conroy Ltd',\n",
       "       'fraud_Jaskolski-Vandervort', 'fraud_Morar Inc',\n",
       "       'fraud_Willms, Kris and Bergnaum', 'fraud_DuBuque LLC',\n",
       "       'fraud_Balistreri-Nader', 'fraud_Friesen-Stamm',\n",
       "       'fraud_Wuckert-Walter', 'fraud_Nader-Heller',\n",
       "       'fraud_Koss and Sons', 'fraud_Eichmann, Bogan and Rodriguez',\n",
       "       'fraud_Murray Ltd', 'fraud_Kutch and Sons',\n",
       "       'fraud_Baumbach, Feeney and Morar', 'fraud_Pfeffer LLC',\n",
       "       'fraud_Jones, Sawayn and Romaguera', 'fraud_Abbott-Rogahn',\n",
       "       'fraud_Zemlak Group', 'fraud_Boyer-Haley', 'fraud_Schiller Ltd',\n",
       "       'fraud_Hoppe-Parisian', 'fraud_Schaefer, Fay and Hilll',\n",
       "       'fraud_Gaylord-Powlowski', 'fraud_Daugherty LLC',\n",
       "       'fraud_Ullrich Ltd', 'fraud_Boehm, Block and Jakubowski',\n",
       "       'fraud_Dietrich-Fadel', 'fraud_Berge-Ullrich',\n",
       "       'fraud_Hahn, Douglas and Schowalter',\n",
       "       'fraud_Ritchie, Bradtke and Stiedemann', 'fraud_Schmeler-Howe',\n",
       "       \"fraud_Greenholt, O'Hara and Balistreri\",\n",
       "       'fraud_Champlin and Sons', 'fraud_Kassulke Inc',\n",
       "       'fraud_Schoen Ltd', 'fraud_Leannon-Nikolaus',\n",
       "       'fraud_Konopelski, Schneider and Hartmann',\n",
       "       'fraud_Hettinger, McCullough and Fay',\n",
       "       'fraud_Goyette, Howell and Collier', 'fraud_Johns-Hoeger',\n",
       "       'fraud_Kautzer and Sons', 'fraud_Thiel-Thiel',\n",
       "       'fraud_Stroman, Hudson and Erdman', 'fraud_Paucek-Wiza',\n",
       "       'fraud_Kemmer-Buckridge', 'fraud_Brown PLC',\n",
       "       'fraud_Morissette, Weber and Wiegand',\n",
       "       'fraud_Swift, Bradtke and Marquardt',\n",
       "       'fraud_Lehner, Reichert and Mills',\n",
       "       'fraud_Douglas, Schneider and Turner', 'fraud_Kuphal-Bartoletti',\n",
       "       'fraud_Herzog Ltd', 'fraud_Roob LLC', 'fraud_Upton PLC',\n",
       "       'fraud_Parker-Kunde', 'fraud_Abernathy and Sons',\n",
       "       'fraud_Kozey-McDermott', 'fraud_Hilpert-Conroy',\n",
       "       'fraud_Dooley Inc', 'fraud_Stehr, Jewess and Schimmel',\n",
       "       'fraud_Schimmel-Olson', 'fraud_Waelchi Inc', 'fraud_Wilkinson LLC',\n",
       "       \"fraud_O'Keefe-Wisoky\", 'fraud_Shields-Wunsch', 'fraud_Herman Inc',\n",
       "       'fraud_Bahringer, Osinski and Block', 'fraud_Turner LLC',\n",
       "       'fraud_Crooks and Sons', 'fraud_Zboncak, Rowe and Murazik',\n",
       "       'fraud_Haag-Blanda', 'fraud_Morissette LLC',\n",
       "       'fraud_Kunze, Larkin and Mayert', 'fraud_Reichert, Rowe and Mraz',\n",
       "       'fraud_Hoppe, Harris and Bednar', 'fraud_Johnston-Casper',\n",
       "       'fraud_Kerluke PLC', 'fraud_Heathcote LLC',\n",
       "       'fraud_Torphy-Kertzmann', 'fraud_Rowe-Vandervort',\n",
       "       'fraud_Emmerich-Luettgen', 'fraud_Hintz-Bruen',\n",
       "       'fraud_Pacocha-Bauch', 'fraud_Hayes, Marquardt and Dibbert',\n",
       "       'fraud_Bogisich-Homenick', 'fraud_Bahringer-Larson',\n",
       "       'fraud_Towne LLC', 'fraud_Tillman, Fritsch and Schmitt',\n",
       "       'fraud_Graham and Sons', 'fraud_Lemke and Sons',\n",
       "       'fraud_Gutmann-Upton', 'fraud_Tillman LLC', 'fraud_Langworth LLC',\n",
       "       'fraud_Larkin Ltd', 'fraud_Wilkinson Ltd',\n",
       "       'fraud_Haley, Batz and Auer', 'fraud_Monahan, Hermann and Johns',\n",
       "       'fraud_Fritsch LLC', 'fraud_Rau-Grant', 'fraud_Stamm-Witting',\n",
       "       'fraud_Altenwerth, Cartwright and Koss', 'fraud_Ernser-Lynch',\n",
       "       'fraud_Casper, Hand and Zulauf', 'fraud_Runolfsson and Sons',\n",
       "       'fraud_VonRueden Group', 'fraud_Kunde-Sanford', 'fraud_Dach-Nader',\n",
       "       'fraud_Kohler, Lindgren and Koelpin',\n",
       "       'fraud_Hodkiewicz, Prohaska and Paucek', 'fraud_Eichmann-Russel',\n",
       "       'fraud_Miller-Harris', 'fraud_Ritchie, Oberbrunner and Cremin',\n",
       "       'fraud_Hermiston, Pacocha and Smith', 'fraud_Mante Group',\n",
       "       'fraud_Stiedemann Inc', 'fraud_Bednar Group',\n",
       "       'fraud_Brown-Greenholt', 'fraud_Jerde-Hermann',\n",
       "       'fraud_Medhurst, Labadie and Gottlieb', 'fraud_Reichel LLC',\n",
       "       'fraud_Flatley Group', 'fraud_Lehner, Mosciski and King',\n",
       "       'fraud_Prosacco LLC', 'fraud_Turner and Sons',\n",
       "       'fraud_Rutherford, Homenick and Bergstrom',\n",
       "       'fraud_Bernier, Streich and Jewess', 'fraud_Dach-Borer',\n",
       "       'fraud_Hartmann, Rowe and Hermann', 'fraud_Runte, Green and Emard',\n",
       "       'fraud_Simonis-Prohaska', 'fraud_Schultz, Simonis and Little',\n",
       "       'fraud_Rempel PLC', 'fraud_Goyette-Herzog', 'fraud_Reichel Inc',\n",
       "       'fraud_Conroy, Balistreri and Gorczany', 'fraud_Ruecker-Mayert',\n",
       "       'fraud_Lynch-Mohr', 'fraud_Spinka-Welch', 'fraud_Kris-Kertzmann',\n",
       "       'fraud_Kilback, Nitzsche and Leffler', 'fraud_Trantow PLC',\n",
       "       'fraud_Ernser-Feest', 'fraud_Medhurst, Cartwright and Ebert',\n",
       "       'fraud_Hackett Group', 'fraud_Spinka Inc', 'fraud_Wiegand-Lowe',\n",
       "       'fraud_Ferry, Reichel and DuBuque', 'fraud_Romaguera and Sons'],\n",
       "      dtype=object)"
      ]
     },
     "execution_count": 14,
     "metadata": {},
     "output_type": "execute_result"
    }
   ],
   "source": [
    "df['merchant'].unique()"
   ]
  },
  {
   "cell_type": "markdown",
   "id": "71bfa904",
   "metadata": {},
   "source": [
    "### Insight dari Tabel Kategori\n",
    "\n",
    "Berdasarkan tabel kategori di atas, berikut adalah beberapa insight yang dapat diambil:\n",
    "\n",
    "1. **Kolom `trans_num`**:\n",
    "    - Memiliki nilai **Cramer's V sebesar 1.0**, yang menunjukkan korelasi yang sangat tinggi dengan target (`is_fraud`). Hal ini mengindikasikan bahwa setiap transaksi memiliki nomor unik yang dapat secara langsung mengidentifikasi kejadian fraud.\n",
    "\n",
    "2. **Kolom `trans_date_trans_time`**:\n",
    "    - Memiliki nilai **Cramer's V sebesar 0.9988**, yang juga menunjukkan korelasi yang sangat tinggi dengan target. Waktu transaksi dapat menjadi indikator penting dalam mendeteksi pola fraud.\n",
    "\n",
    "3. **Kolom `street` dan `dob`**:\n",
    "    - Memiliki nilai **Cramer's V masing-masing sebesar 0.3510 dan 0.3479**, yang menunjukkan korelasi sedang dengan target. Informasi alamat dan tanggal lahir mungkin memberikan petunjuk tambahan terkait pola fraud.\n",
    "\n",
    "4. **Kolom `merchant` dan `category`**:\n",
    "    - Memiliki nilai **Cramer's V sebesar 0.1802 dan 0.1740**, yang menunjukkan korelasi lemah dengan target. Namun, kategori produk dan merchant tertentu mungkin lebih rentan terhadap kejadian fraud.\n",
    "\n",
    "5. **Kolom `gender` dan `state`**:\n",
    "    - Memiliki nilai **Cramer's V sebesar 0.0190 dan 0.0515**, yang menunjukkan korelasi yang sangat lemah dengan target. Hal ini mengindikasikan bahwa jenis kelamin dan lokasi negara bagian tidak terlalu berpengaruh terhadap kejadian fraud."
   ]
  },
  {
   "cell_type": "code",
   "execution_count": 12,
   "id": "4b600526",
   "metadata": {},
   "outputs": [
    {
     "data": {
      "image/png": "[encoded data removed]",
      "text/plain": [
       "<Figure size 1500x1000 with 4 Axes>"
      ]
     },
     "metadata": {},
     "output_type": "display_data"
    }
   ],
   "source": [
    "# Plot histogram dengan KDE untuk melihat skewness\n",
    "plt.figure(figsize=(15, 10))\n",
    "for i, col in enumerate(num_cols, 1):\n",
    "    plt.subplot(2, 3, i)\n",
    "    sns.histplot(df[col], kde=True, bins=30, color='blue')\n",
    "    plt.title(f'Distribusi {col}')\n",
    "    plt.xlabel(col)\n",
    "    plt.ylabel('Frekuensi')\n",
    "plt.suptitle(\"Distribusi Kolom Numerik dengan KDE\")\n",
    "plt.tight_layout(rect=[0, 0, 1, 0.96])\n",
    "plt.show()\n"
   ]
  },
  {
   "cell_type": "markdown",
   "id": "b7205f1c",
   "metadata": {},
   "source": [
    "### Insight dari Distribusi Data\n",
    "\n",
    "Berdasarkan distribusi data yang diberikan, berikut adalah beberapa insight yang dapat diambil:\n",
    "\n",
    "1. **Kolom `amt` (Jumlah Transaksi)**:\n",
    "    - Distribusi data menunjukkan bahwa sebagian besar transaksi memiliki jumlah yang kecil, dengan beberapa outlier pada jumlah transaksi yang besar. Hal ini mengindikasikan bahwa transaksi dengan jumlah besar mungkin lebih jarang terjadi.\n",
    "\n",
    "2. **Kolom `lat` dan `long` (Koordinat Lokasi)**:\n",
    "    - Data lokasi menunjukkan distribusi yang cukup merata, mencakup berbagai wilayah geografis. Namun, beberapa lokasi mungkin lebih sering muncul, tergantung pada konsentrasi populasi atau aktivitas transaksi.\n",
    "\n",
    "3. **Kolom `city_pop` (Populasi Kota)**:\n",
    "    - Sebagian besar transaksi terjadi di kota-kota dengan populasi kecil hingga menengah. Kota dengan populasi besar mungkin memiliki lebih banyak transaksi, tetapi distribusinya lebih tersebar.\n",
    "\n",
    "4. **Kolom `merch_lat` dan `merch_long` (Koordinat Lokasi Merchant)**:\n",
    "    - Lokasi merchant juga menunjukkan distribusi yang luas, mencerminkan keberadaan merchant di berbagai wilayah. Beberapa merchant mungkin lebih sering muncul, terutama di area dengan aktivitas ekonomi tinggi.\n",
    "\n",
    "5. **Kolom `is_fraud` (Indikator Fraud)**:\n",
    "    - Distribusi data menunjukkan bahwa kasus fraud relatif jarang dibandingkan dengan transaksi normal. Hal ini sesuai dengan sifat data fraud yang biasanya imbalanced.\n",
    "\n",
    "6. **Kolom `hour` (Jam Transaksi)**:\n",
    "    - Distribusi jam transaksi menunjukkan pola tertentu, seperti puncak aktivitas pada jam-jam tertentu. Hal ini dapat memberikan wawasan tentang waktu-waktu yang lebih rawan terhadap fraud.\n",
    "\n",
    "7. **Kolom `job` (Pekerjaan)**:\n",
    "    - Beberapa pekerjaan, seperti \"Materials engineer\" dan \"Trading standards officer,\" memiliki jumlah transaksi fraud yang lebih tinggi. Hal ini dapat memberikan indikasi tentang kelompok pekerjaan yang lebih rentan terhadap fraud.\n",
    "\n",
    "8. **Kolom `merchant` (Merchant)**:\n",
    "    - Merchant tertentu, seperti \"fraud_Rau and Sons\" dan \"fraud_Cormier LLC,\" memiliki jumlah kasus fraud yang lebih tinggi. Hal ini menunjukkan bahwa merchant-merchant ini mungkin lebih sering menjadi target fraud atau memiliki kelemahan dalam sistem keamanan mereka.\n",
    "\n",
    "9. **Kolom `cc_num` (Nomor Kartu Kredit)**:\n",
    "    - Beberapa nomor kartu kredit, seperti \"4792627764422477317,\" memiliki jumlah transaksi yang sangat tinggi. Hal ini dapat mengindikasikan potensi penyalahgunaan atau aktivitas yang mencurigakan pada kartu tersebut."
   ]
  },
  {
   "cell_type": "code",
   "execution_count": 13,
   "id": "0d8c53c5",
   "metadata": {},
   "outputs": [
    {
     "data": {
      "image/png": "[encoded data removed]",
      "text/plain": [
       "<Figure size 1200x600 with 1 Axes>"
      ]
     },
     "metadata": {},
     "output_type": "display_data"
    }
   ],
   "source": [
    "plt.figure(figsize=(12,6))\n",
    "sns.countplot(data=df[df['is_fraud'] == 1], x='category', order=df[df['is_fraud'] == 1]['category'].value_counts().index)\n",
    "plt.xticks(rotation=45)\n",
    "plt.title('Jumlah Fraud per Kategori Produk')\n",
    "plt.show()\n"
   ]
  },
  {
   "cell_type": "code",
   "execution_count": 14,
   "id": "4c2cbb26",
   "metadata": {},
   "outputs": [
    {
     "data": {
      "image/png": "[encoded data removed]",
      "text/plain": [
       "<Figure size 1000x400 with 1 Axes>"
      ]
     },
     "metadata": {},
     "output_type": "display_data"
    }
   ],
   "source": [
    "plt.figure(figsize=(10,4))\n",
    "sns.countplot(data=df[df['is_fraud'] == 1], x='gender')\n",
    "plt.title('Distribusi Fraud berdasarkan Gender')\n",
    "plt.show()\n"
   ]
  },
  {
   "cell_type": "code",
   "execution_count": 15,
   "id": "c5cc8e46",
   "metadata": {},
   "outputs": [
    {
     "data": {
      "image/png": "[encoded data removed]",
      "text/plain": [
       "<Figure size 1000x400 with 1 Axes>"
      ]
     },
     "metadata": {},
     "output_type": "display_data"
    }
   ],
   "source": [
    "df['trans_date_trans_time'] = pd.to_datetime(df['trans_date_trans_time'])\n",
    "df['hour'] = df['trans_date_trans_time'].dt.hour\n",
    "\n",
    "plt.figure(figsize=(10,4))\n",
    "sns.countplot(x='hour', hue='is_fraud', data=df)\n",
    "plt.title('Jam Transaksi dan Fraud')\n",
    "plt.show()\n"
   ]
  },
  {
   "cell_type": "markdown",
   "id": "e63d918e",
   "metadata": {},
   "source": [
    "Berikut adalah insight dari visualisasi distribusi jam transaksi dan fraud:\n",
    "1. **Fraud Berdasarkan Jam Transaksi**:\n",
    "    - Fraud cenderung terjadi pada jam-jam tertentu, yang mungkin menunjukkan pola atau celah keamanan yang dimanfaatkan oleh pelaku fraud.\n",
    "    - Misalnya, jika fraud lebih sering terjadi pada malam hari, hal ini dapat mengindikasikan bahwa pelaku memanfaatkan waktu ketika pengawasan lebih lemah.\n",
    "\n",
    "3. **Rekomendasi**:\n",
    "    - Perkuat pengawasan dan sistem deteksi fraud pada jam-jam rawan.\n",
    "    - Gunakan model prediktif yang mempertimbangkan waktu transaksi sebagai salah satu fitur penting untuk mendeteksi potensi fraud.\n"
   ]
  },
  {
   "cell_type": "code",
   "execution_count": 17,
   "id": "97490dff",
   "metadata": {},
   "outputs": [
    {
     "data": {
      "image/png": "[encoded data removed]",
      "text/plain": [
       "<Figure size 1000x400 with 1 Axes>"
      ]
     },
     "metadata": {},
     "output_type": "display_data"
    }
   ],
   "source": [
    "fraud_merchants = df[df['is_fraud'] == 1]['merchant'].value_counts().head(10)\n",
    "plt.figure(figsize=(10,4))\n",
    "sns.barplot(x=fraud_merchants.index, y=fraud_merchants.values)\n",
    "plt.xticks(rotation=45)\n",
    "plt.title('Top 10 Merchant Paling Sering Terkena Fraud')\n",
    "plt.show()\n"
   ]
  },
  {
   "cell_type": "code",
   "execution_count": 18,
   "id": "bff031a2",
   "metadata": {},
   "outputs": [],
   "source": [
    "# Convert dob to datetime\n",
    "df['dob'] = pd.to_datetime(df['dob'])\n",
    "latest_date = df['trans_date_trans_time'].max()\n",
    "\n",
    "# Calculate age using the latest_date\n",
    "df['age'] = (latest_date - df['dob']).dt.days // 365"
   ]
  },
  {
   "cell_type": "code",
   "execution_count": 22,
   "id": "fa27c1be",
   "metadata": {},
   "outputs": [
    {
     "data": {
      "text/html": [
       "<div>\n",
       "<style scoped>\n",
       "    .dataframe tbody tr th:only-of-type {\n",
       "        vertical-align: middle;\n",
       "    }\n",
       "\n",
       "    .dataframe tbody tr th {\n",
       "        vertical-align: top;\n",
       "    }\n",
       "\n",
       "    .dataframe thead th {\n",
       "        text-align: right;\n",
       "    }\n",
       "</style>\n",
       "<table border=\"1\" class=\"dataframe\">\n",
       "  <thead>\n",
       "    <tr style=\"text-align: right;\">\n",
       "      <th></th>\n",
       "      <th>age</th>\n",
       "      <th>age_group</th>\n",
       "    </tr>\n",
       "  </thead>\n",
       "  <tbody>\n",
       "    <tr>\n",
       "      <th>0</th>\n",
       "      <td>53</td>\n",
       "      <td>Middle Aged</td>\n",
       "    </tr>\n",
       "    <tr>\n",
       "      <th>1</th>\n",
       "      <td>29</td>\n",
       "      <td>Very Young</td>\n",
       "    </tr>\n",
       "    <tr>\n",
       "      <th>2</th>\n",
       "      <td>52</td>\n",
       "      <td>Middle Aged</td>\n",
       "    </tr>\n",
       "    <tr>\n",
       "      <th>3</th>\n",
       "      <td>56</td>\n",
       "      <td>Middle Aged</td>\n",
       "    </tr>\n",
       "    <tr>\n",
       "      <th>4</th>\n",
       "      <td>49</td>\n",
       "      <td>Middle Aged</td>\n",
       "    </tr>\n",
       "  </tbody>\n",
       "</table>\n",
       "</div>"
      ],
      "text/plain": [
       "   age    age_group\n",
       "0   53  Middle Aged\n",
       "1   29   Very Young\n",
       "2   52  Middle Aged\n",
       "3   56  Middle Aged\n",
       "4   49  Middle Aged"
      ]
     },
     "execution_count": 22,
     "metadata": {},
     "output_type": "execute_result"
    }
   ],
   "source": [
    "# Buat kolom age_group berdasarkan rentang umur\n",
    "df['age_group'] = pd.cut(df['age'], bins=5, labels=['Very Young', 'Young', 'Middle Aged', 'Senior', 'Elderly'])\n",
    "df[['age', 'age_group']].head()"
   ]
  },
  {
   "cell_type": "code",
   "execution_count": 24,
   "id": "e6620a91",
   "metadata": {},
   "outputs": [
    {
     "data": {
      "application/vnd.plotly.v1+json": {
       "config": {
        "plotlyServerURL": "https://plot.ly"
       },
       "data": [
        {
         "hovertemplate": "Fraud Status=0<br>Age Group=%{x}<br>Jumlah Transaksi=%{y}<extra></extra>",
         "legendgroup": "0",
         "marker": {
          "color": "#636efa",
          "pattern": {
           "shape": ""
          }
         },
         "name": "0",
         "orientation": "v",
         "showlegend": true,
         "textposition": "auto",
         "type": "bar",
         "x": [
          "Very Young",
          "Young",
          "Middle Aged",
          "Senior",
          "Elderly"
         ],
         "xaxis": "x",
         "y": {
          "bdata": "fKMAAPsUAQD4tgAAEV4AAN8lAAA=",
          "dtype": "i4"
         },
         "yaxis": "y"
        },
        {
         "hovertemplate": "Fraud Status=1<br>Age Group=%{x}<br>Jumlah Transaksi=%{y}<extra></extra>",
         "legendgroup": "1",
         "marker": {
          "color": "#EF553B",
          "pattern": {
           "shape": ""
          }
         },
         "name": "1",
         "orientation": "v",
         "showlegend": true,
         "textposition": "auto",
         "type": "bar",
         "x": [
          "Very Young",
          "Young",
          "Middle Aged",
          "Senior",
          "Elderly"
         ],
         "xaxis": "x",
         "y": {
          "bdata": "TwbyB6oIKQQ+Ag==",
          "dtype": "i2"
         },
         "yaxis": "y"
        }
       ],
       "layout": {
        "barmode": "stack",
        "legend": {
         "title": {
          "text": "Fraud Status"
         },
         "tracegroupgap": 0
        },
        "template": {
         "data": {
          "bar": [
           {
            "error_x": {
             "color": "#2a3f5f"
            },
            "error_y": {
             "color": "#2a3f5f"
            },
            "marker": {
             "line": {
              "color": "#E5ECF6",
              "width": 0.5
             },
             "pattern": {
              "fillmode": "overlay",
              "size": 10,
              "solidity": 0.2
             }
            },
            "type": "bar"
           }
          ],
          "barpolar": [
           {
            "marker": {
             "line": {
              "color": "#E5ECF6",
              "width": 0.5
             },
             "pattern": {
              "fillmode": "overlay",
              "size": 10,
              "solidity": 0.2
             }
            },
            "type": "barpolar"
           }
          ],
          "carpet": [
           {
            "aaxis": {
             "endlinecolor": "#2a3f5f",
             "gridcolor": "white",
             "linecolor": "white",
             "minorgridcolor": "white",
             "startlinecolor": "#2a3f5f"
            },
            "baxis": {
             "endlinecolor": "#2a3f5f",
             "gridcolor": "white",
             "linecolor": "white",
             "minorgridcolor": "white",
             "startlinecolor": "#2a3f5f"
            },
            "type": "carpet"
           }
          ],
          "choropleth": [
           {
            "colorbar": {
             "outlinewidth": 0,
             "ticks": ""
            },
            "type": "choropleth"
           }
          ],
          "contour": [
           {
            "colorbar": {
             "outlinewidth": 0,
             "ticks": ""
            },
            "colorscale": [
             [
              0,
              "#0d0887"
             ],
             [
              0.1111111111111111,
              "#46039f"
             ],
             [
              0.2222222222222222,
              "#7201a8"
             ],
             [
              0.3333333333333333,
              "#9c179e"
             ],
             [
              0.4444444444444444,
              "#bd3786"
             ],
             [
              0.5555555555555556,
              "#d8576b"
             ],
             [
              0.6666666666666666,
              "#ed7953"
             ],
             [
              0.7777777777777778,
              "#fb9f3a"
             ],
             [
              0.8888888888888888,
              "#fdca26"
             ],
             [
              1,
              "#f0f921"
             ]
            ],
            "type": "contour"
           }
          ],
          "contourcarpet": [
           {
            "colorbar": {
             "outlinewidth": 0,
             "ticks": ""
            },
            "type": "contourcarpet"
           }
          ],
          "heatmap": [
           {
            "colorbar": {
             "outlinewidth": 0,
             "ticks": ""
            },
            "colorscale": [
             [
              0,
              "#0d0887"
             ],
             [
              0.1111111111111111,
              "#46039f"
             ],
             [
              0.2222222222222222,
              "#7201a8"
             ],
             [
              0.3333333333333333,
              "#9c179e"
             ],
             [
              0.4444444444444444,
              "#bd3786"
             ],
             [
              0.5555555555555556,
              "#d8576b"
             ],
             [
              0.6666666666666666,
              "#ed7953"
             ],
             [
              0.7777777777777778,
              "#fb9f3a"
             ],
             [
              0.8888888888888888,
              "#fdca26"
             ],
             [
              1,
              "#f0f921"
             ]
            ],
            "type": "heatmap"
           }
          ],
          "histogram": [
           {
            "marker": {
             "pattern": {
              "fillmode": "overlay",
              "size": 10,
              "solidity": 0.2
             }
            },
            "type": "histogram"
           }
          ],
          "histogram2d": [
           {
            "colorbar": {
             "outlinewidth": 0,
             "ticks": ""
            },
            "colorscale": [
             [
              0,
              "#0d0887"
             ],
             [
              0.1111111111111111,
              "#46039f"
             ],
             [
              0.2222222222222222,
              "#7201a8"
             ],
             [
              0.3333333333333333,
              "#9c179e"
             ],
             [
              0.4444444444444444,
              "#bd3786"
             ],
             [
              0.5555555555555556,
              "#d8576b"
             ],
             [
              0.6666666666666666,
              "#ed7953"
             ],
             [
              0.7777777777777778,
              "#fb9f3a"
             ],
             [
              0.8888888888888888,
              "#fdca26"
             ],
             [
              1,
              "#f0f921"
             ]
            ],
            "type": "histogram2d"
           }
          ],
          "histogram2dcontour": [
           {
            "colorbar": {
             "outlinewidth": 0,
             "ticks": ""
            },
            "colorscale": [
             [
              0,
              "#0d0887"
             ],
             [
              0.1111111111111111,
              "#46039f"
             ],
             [
              0.2222222222222222,
              "#7201a8"
             ],
             [
              0.3333333333333333,
              "#9c179e"
             ],
             [
              0.4444444444444444,
              "#bd3786"
             ],
             [
              0.5555555555555556,
              "#d8576b"
             ],
             [
              0.6666666666666666,
              "#ed7953"
             ],
             [
              0.7777777777777778,
              "#fb9f3a"
             ],
             [
              0.8888888888888888,
              "#fdca26"
             ],
             [
              1,
              "#f0f921"
             ]
            ],
            "type": "histogram2dcontour"
           }
          ],
          "mesh3d": [
           {
            "colorbar": {
             "outlinewidth": 0,
             "ticks": ""
            },
            "type": "mesh3d"
           }
          ],
          "parcoords": [
           {
            "line": {
             "colorbar": {
              "outlinewidth": 0,
              "ticks": ""
             }
            },
            "type": "parcoords"
           }
          ],
          "pie": [
           {
            "automargin": true,
            "type": "pie"
           }
          ],
          "scatter": [
           {
            "fillpattern": {
             "fillmode": "overlay",
             "size": 10,
             "solidity": 0.2
            },
            "type": "scatter"
           }
          ],
          "scatter3d": [
           {
            "line": {
             "colorbar": {
              "outlinewidth": 0,
              "ticks": ""
             }
            },
            "marker": {
             "colorbar": {
              "outlinewidth": 0,
              "ticks": ""
             }
            },
            "type": "scatter3d"
           }
          ],
          "scattercarpet": [
           {
            "marker": {
             "colorbar": {
              "outlinewidth": 0,
              "ticks": ""
             }
            },
            "type": "scattercarpet"
           }
          ],
          "scattergeo": [
           {
            "marker": {
             "colorbar": {
              "outlinewidth": 0,
              "ticks": ""
             }
            },
            "type": "scattergeo"
           }
          ],
          "scattergl": [
           {
            "marker": {
             "colorbar": {
              "outlinewidth": 0,
              "ticks": ""
             }
            },
            "type": "scattergl"
           }
          ],
          "scattermap": [
           {
            "marker": {
             "colorbar": {
              "outlinewidth": 0,
              "ticks": ""
             }
            },
            "type": "scattermap"
           }
          ],
          "scattermapbox": [
           {
            "marker": {
             "colorbar": {
              "outlinewidth": 0,
              "ticks": ""
             }
            },
            "type": "scattermapbox"
           }
          ],
          "scatterpolar": [
           {
            "marker": {
             "colorbar": {
              "outlinewidth": 0,
              "ticks": ""
             }
            },
            "type": "scatterpolar"
           }
          ],
          "scatterpolargl": [
           {
            "marker": {
             "colorbar": {
              "outlinewidth": 0,
              "ticks": ""
             }
            },
            "type": "scatterpolargl"
           }
          ],
          "scatterternary": [
           {
            "marker": {
             "colorbar": {
              "outlinewidth": 0,
              "ticks": ""
             }
            },
            "type": "scatterternary"
           }
          ],
          "surface": [
           {
            "colorbar": {
             "outlinewidth": 0,
             "ticks": ""
            },
            "colorscale": [
             [
              0,
              "#0d0887"
             ],
             [
              0.1111111111111111,
              "#46039f"
             ],
             [
              0.2222222222222222,
              "#7201a8"
             ],
             [
              0.3333333333333333,
              "#9c179e"
             ],
             [
              0.4444444444444444,
              "#bd3786"
             ],
             [
              0.5555555555555556,
              "#d8576b"
             ],
             [
              0.6666666666666666,
              "#ed7953"
             ],
             [
              0.7777777777777778,
              "#fb9f3a"
             ],
             [
              0.8888888888888888,
              "#fdca26"
             ],
             [
              1,
              "#f0f921"
             ]
            ],
            "type": "surface"
           }
          ],
          "table": [
           {
            "cells": {
             "fill": {
              "color": "#EBF0F8"
             },
             "line": {
              "color": "white"
             }
            },
            "header": {
             "fill": {
              "color": "#C8D4E3"
             },
             "line": {
              "color": "white"
             }
            },
            "type": "table"
           }
          ]
         },
         "layout": {
          "annotationdefaults": {
           "arrowcolor": "#2a3f5f",
           "arrowhead": 0,
           "arrowwidth": 1
          },
          "autotypenumbers": "strict",
          "coloraxis": {
           "colorbar": {
            "outlinewidth": 0,
            "ticks": ""
           }
          },
          "colorscale": {
           "diverging": [
            [
             0,
             "#8e0152"
            ],
            [
             0.1,
             "#c51b7d"
            ],
            [
             0.2,
             "#de77ae"
            ],
            [
             0.3,
             "#f1b6da"
            ],
            [
             0.4,
             "#fde0ef"
            ],
            [
             0.5,
             "#f7f7f7"
            ],
            [
             0.6,
             "#e6f5d0"
            ],
            [
             0.7,
             "#b8e186"
            ],
            [
             0.8,
             "#7fbc41"
            ],
            [
             0.9,
             "#4d9221"
            ],
            [
             1,
             "#276419"
            ]
           ],
           "sequential": [
            [
             0,
             "#0d0887"
            ],
            [
             0.1111111111111111,
             "#46039f"
            ],
            [
             0.2222222222222222,
             "#7201a8"
            ],
            [
             0.3333333333333333,
             "#9c179e"
            ],
            [
             0.4444444444444444,
             "#bd3786"
            ],
            [
             0.5555555555555556,
             "#d8576b"
            ],
            [
             0.6666666666666666,
             "#ed7953"
            ],
            [
             0.7777777777777778,
             "#fb9f3a"
            ],
            [
             0.8888888888888888,
             "#fdca26"
            ],
            [
             1,
             "#f0f921"
            ]
           ],
           "sequentialminus": [
            [
             0,
             "#0d0887"
            ],
            [
             0.1111111111111111,
             "#46039f"
            ],
            [
             0.2222222222222222,
             "#7201a8"
            ],
            [
             0.3333333333333333,
             "#9c179e"
            ],
            [
             0.4444444444444444,
             "#bd3786"
            ],
            [
             0.5555555555555556,
             "#d8576b"
            ],
            [
             0.6666666666666666,
             "#ed7953"
            ],
            [
             0.7777777777777778,
             "#fb9f3a"
            ],
            [
             0.8888888888888888,
             "#fdca26"
            ],
            [
             1,
             "#f0f921"
            ]
           ]
          },
          "colorway": [
           "#636efa",
           "#EF553B",
           "#00cc96",
           "#ab63fa",
           "#FFA15A",
           "#19d3f3",
           "#FF6692",
           "#B6E880",
           "#FF97FF",
           "#FECB52"
          ],
          "font": {
           "color": "#2a3f5f"
          },
          "geo": {
           "bgcolor": "white",
           "lakecolor": "white",
           "landcolor": "#E5ECF6",
           "showlakes": true,
           "showland": true,
           "subunitcolor": "white"
          },
          "hoverlabel": {
           "align": "left"
          },
          "hovermode": "closest",
          "mapbox": {
           "style": "light"
          },
          "paper_bgcolor": "white",
          "plot_bgcolor": "#E5ECF6",
          "polar": {
           "angularaxis": {
            "gridcolor": "white",
            "linecolor": "white",
            "ticks": ""
           },
           "bgcolor": "#E5ECF6",
           "radialaxis": {
            "gridcolor": "white",
            "linecolor": "white",
            "ticks": ""
           }
          },
          "scene": {
           "xaxis": {
            "backgroundcolor": "#E5ECF6",
            "gridcolor": "white",
            "gridwidth": 2,
            "linecolor": "white",
            "showbackground": true,
            "ticks": "",
            "zerolinecolor": "white"
           },
           "yaxis": {
            "backgroundcolor": "#E5ECF6",
            "gridcolor": "white",
            "gridwidth": 2,
            "linecolor": "white",
            "showbackground": true,
            "ticks": "",
            "zerolinecolor": "white"
           },
           "zaxis": {
            "backgroundcolor": "#E5ECF6",
            "gridcolor": "white",
            "gridwidth": 2,
            "linecolor": "white",
            "showbackground": true,
            "ticks": "",
            "zerolinecolor": "white"
           }
          },
          "shapedefaults": {
           "line": {
            "color": "#2a3f5f"
           }
          },
          "ternary": {
           "aaxis": {
            "gridcolor": "white",
            "linecolor": "white",
            "ticks": ""
           },
           "baxis": {
            "gridcolor": "white",
            "linecolor": "white",
            "ticks": ""
           },
           "bgcolor": "#E5ECF6",
           "caxis": {
            "gridcolor": "white",
            "linecolor": "white",
            "ticks": ""
           }
          },
          "title": {
           "x": 0.05
          },
          "xaxis": {
           "automargin": true,
           "gridcolor": "white",
           "linecolor": "white",
           "ticks": "",
           "title": {
            "standoff": 15
           },
           "zerolinecolor": "white",
           "zerolinewidth": 2
          },
          "yaxis": {
           "automargin": true,
           "gridcolor": "white",
           "linecolor": "white",
           "ticks": "",
           "title": {
            "standoff": 15
           },
           "zerolinecolor": "white",
           "zerolinewidth": 2
          }
         }
        },
        "title": {
         "text": "Distribusi Fraud dan Not Fraud Berdasarkan Age Group"
        },
        "xaxis": {
         "anchor": "y",
         "domain": [
          0,
          1
         ],
         "title": {
          "text": "Age Group"
         }
        },
        "yaxis": {
         "anchor": "x",
         "domain": [
          0,
          1
         ],
         "title": {
          "text": "Jumlah Transaksi"
         }
        }
       }
      }
     },
     "metadata": {},
     "output_type": "display_data"
    }
   ],
   "source": [
    "import plotly.express as px\n",
    "\n",
    "# Mengubah age_group_counts menjadi DataFrame yang cocok untuk plotly\n",
    "age_group_counts_reset = age_group_counts.reset_index()\n",
    "age_group_counts_melted = age_group_counts_reset.melt(id_vars='age_group', var_name='is_fraud', value_name='count')\n",
    "\n",
    "# Visualisasi dengan plotly\n",
    "fig = px.bar(age_group_counts_melted, \n",
    "             x='age_group', \n",
    "             y='count', \n",
    "             color='is_fraud', \n",
    "             barmode='stack', \n",
    "             title='Distribusi Fraud dan Not Fraud Berdasarkan Age Group',\n",
    "             labels={'age_group': 'Age Group', 'count': 'Jumlah Transaksi', 'is_fraud': 'Fraud Status'})\n",
    "fig.update_layout(xaxis_title='Age Group', yaxis_title='Jumlah Transaksi')\n",
    "fig.show()\n"
   ]
  },
  {
   "cell_type": "code",
   "execution_count": 15,
   "id": "53a66f68",
   "metadata": {},
   "outputs": [
    {
     "name": "stdout",
     "output_type": "stream",
     "text": [
      "Cramér's V antara merchant dan category: 0.9945696295667876\n"
     ]
    }
   ],
   "source": [
    "# Hitung Cramér's V antara merchant dan category\n",
    "cramers_v_merchant_category = cramers_v(df['merchant'], df['category'])\n",
    "print(f\"Cramér's V antara merchant dan category: {cramers_v_merchant_category}\")"
   ]
  },
  {
   "cell_type": "code",
   "execution_count": 22,
   "id": "2b03eebe",
   "metadata": {},
   "outputs": [
    {
     "name": "stdout",
     "output_type": "stream",
     "text": [
      "    feature       VIF\n",
      "1  category  8.873867\n",
      "2  merchant  8.873867\n"
     ]
    }
   ],
   "source": [
    "import pandas as pd\n",
    "from category_encoders import TargetEncoder\n",
    "\n",
    "# Misal df punya kolom 'category', 'merchant', dan target 'label'\n",
    "encoder = TargetEncoder(cols=['category', 'merchant'])\n",
    "X_encoded = encoder.fit_transform(df[['category', 'merchant']], df['is_fraud'])  # pakai target untuk encoding\n",
    "\n",
    "from statsmodels.stats.outliers_influence import variance_inflation_factor\n",
    "import statsmodels.api as sm\n",
    "\n",
    "# Tambah konstanta untuk VIF\n",
    "X_vif = sm.add_constant(X_encoded)\n",
    "\n",
    "# Hitung VIF\n",
    "vif_data = pd.DataFrame()\n",
    "vif_data[\"feature\"] = X_vif.columns\n",
    "vif_data[\"VIF\"] = [variance_inflation_factor(X_vif.values, i) for i in range(X_vif.shape[1])]\n",
    "\n",
    "# Hapus konstanta dari output\n",
    "vif_data = vif_data[vif_data[\"feature\"] != \"const\"]\n",
    "print(vif_data)\n"
   ]
  },
  {
   "cell_type": "code",
   "execution_count": null,
   "id": "438f5111",
   "metadata": {},
   "outputs": [],
   "source": []
  }
 ],
 "metadata": {
  "kernelspec": {
   "display_name": "Hacktiv8",
   "language": "python",
   "name": "python3"
  },
  "language_info": {
   "codemirror_mode": {
    "name": "ipython",
    "version": 3
   },
   "file_extension": ".py",
   "mimetype": "text/x-python",
   "name": "python",
   "nbconvert_exporter": "python",
   "pygments_lexer": "ipython3",
   "version": "3.13.1"
  }
 },
 "nbformat": 4,
 "nbformat_minor": 5
}
